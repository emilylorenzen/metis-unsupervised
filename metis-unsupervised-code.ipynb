{
 "cells": [
  {
   "cell_type": "code",
   "execution_count": 3,
   "id": "b2e8474d-1a2a-40c9-8f5b-b4b57d3c3bca",
   "metadata": {},
   "outputs": [],
   "source": [
    "import praw\n",
    "import pandas as pd\n",
    "import requests\n",
    "import json\n",
    "import csv\n",
    "import re\n",
    "import string\n",
    "import numpy as np\n",
    "from collections import Counter\n",
    "\n",
    "from wordcloud import WordCloud, STOPWORDS, ImageColorGenerator\n",
    "\n",
    "import matplotlib.pyplot as plt\n",
    "import seaborn as sns\n",
    "\n",
    "from sklearn.manifold import TSNE\n",
    "from sklearn.preprocessing import StandardScaler\n",
    "from sklearn.feature_extraction.text import CountVectorizer, TfidfVectorizer\n",
    "from sklearn.decomposition import NMF, LatentDirichletAllocation, TruncatedSVD\n",
    "from sklearn.metrics.pairwise import cosine_similarity\n",
    "\n",
    "from nltk.stem.lancaster import LancasterStemmer\n",
    "from nltk.chunk import ne_chunk\n",
    "from nltk.tag import pos_tag\n",
    "\n",
    "import spacy\n",
    "import en_core_web_sm\n",
    "from spacy.lang.en import English\n",
    "\n",
    "\n"
   ]
  },
  {
   "cell_type": "markdown",
   "id": "35b39c9b-7629-4aca-95c1-e991ebb190de",
   "metadata": {},
   "source": [
    "## Data acquisition from Reddit using PSAW\n",
    "Initially tried using PRAW, but it really limits the number of articles. I then used pushshift API but ran into issues parsing the Json. Finally decided to use PSAW."
   ]
  },
  {
   "cell_type": "markdown",
   "id": "a4c3ecc2-36b4-4e46-8ef7-7899ec9805f8",
   "metadata": {},
   "source": [
    "### PRAW usage "
   ]
  },
  {
   "cell_type": "code",
   "execution_count": 4,
   "id": "0f073c98-3d57-4e81-9378-ff3592342ba5",
   "metadata": {},
   "outputs": [],
   "source": [
    "# reddit = praw.Reddit(client_id='IpZhTcD6jOpGww', \n",
    "#                      client_secret='v6yGS7U8wUzRpmdjFcuz_RYs9uo-Zg', \n",
    "#                      user_agent='Emily Lorenzen', \n",
    "#                      username='emzilla', \n",
    "#                      password='eardrum')"
   ]
  },
  {
   "cell_type": "code",
   "execution_count": 5,
   "id": "422afe24-8751-41c8-8cd4-aa61470f1f95",
   "metadata": {},
   "outputs": [],
   "source": [
    "# def get_reddit_articles(subredit):\n",
    "#     nootropics_sub = reddit.subreddit('nootropics')\n",
    "#     hot = nootropics_sub.hot(limit=1000)"
   ]
  },
  {
   "cell_type": "code",
   "execution_count": 6,
   "id": "1323ebf7-93ee-47c9-9861-a923af487c44",
   "metadata": {
    "tags": []
   },
   "outputs": [],
   "source": [
    "# def reddit_to_dict(reddit_list):\n",
    "#     dict = { \"title\":[],\n",
    "#                 \"subreddit\":[],\n",
    "#                 \"score\":[], \n",
    "#                 \"id\":[], \n",
    "#                 \"url\":[], \n",
    "#                 \"comms_num\": [], \n",
    "#                 \"created\": [], \n",
    "#                 \"body\":[]}\n",
    "#     for submission in hot:\n",
    "#         dict[\"title\"].append(submission.title)\n",
    "#         dict['subreddit'].append(submission.subreddit)\n",
    "#         dict[\"score\"].append(submission.score)\n",
    "#         dict[\"id\"].append(submission.id)\n",
    "#         dict[\"url\"].append(submission.url)\n",
    "#         dict[\"comms_num\"].append(submission.num_comments)\n",
    "#         dict[\"created\"].append(submission.created)\n",
    "#         dict[\"body\"].append(submission.selftext)\n",
    "#     return pd.DataFrame(dict)"
   ]
  },
  {
   "cell_type": "code",
   "execution_count": 7,
   "id": "387f28ad-04e9-451c-8e97-622ddab4a91c",
   "metadata": {
    "tags": []
   },
   "outputs": [],
   "source": [
    "# df_noo1 = reddit_to_dict(articles)"
   ]
  },
  {
   "cell_type": "markdown",
   "id": "92b91534-2320-454b-bccc-65c341be291f",
   "metadata": {},
   "source": [
    "### Pushshift attempt"
   ]
  },
  {
   "cell_type": "code",
   "execution_count": 8,
   "id": "ce47868e-b61d-481c-9627-b4adf7509bf0",
   "metadata": {
    "tags": []
   },
   "outputs": [],
   "source": [
    "# def getPushshiftData(query, after, before, sub):\n",
    "#     url = 'https://api.pushshift.io/reddit/search/submission/?title='+str(query)+'&size=10&after='+str(after)+'&before='+str(before)+'&subreddit='+str(sub)\n",
    "#     print(url)\n",
    "#     r = requests.get(url)\n",
    "#     data = json.loads(r.text)\n",
    "#     return data['data']"
   ]
  },
  {
   "cell_type": "code",
   "execution_count": 9,
   "id": "77aad396-6747-42f8-a19d-ac65a04ff39d",
   "metadata": {},
   "outputs": [],
   "source": [
    "# def collectSubData(subm):\n",
    "#     subData = list() #list to store data points\n",
    "#     title = subm['title']\n",
    "#     url = subm['url']\n",
    "#     author = subm['author']\n",
    "#     sub_id = subm['id']\n",
    "#     score = subm['score']\n",
    "#     numComms = subm['num_comments']\n",
    "#     subData.append((sub_id,title,url,author,score,numComms))\n",
    "#     subStats[sub_id] = subData\n",
    "#     return subStats, subData"
   ]
  },
  {
   "cell_type": "code",
   "execution_count": 10,
   "id": "eb0dabde-8c5d-4cf4-b96f-d88763410b62",
   "metadata": {},
   "outputs": [],
   "source": [
    "# def updateSubs_file():\n",
    "#     upload_count = 0\n",
    "#     location = \"\\\\Reddit Data\\\\\"\n",
    "#     print(\"input filename of submission file, please add .csv\")\n",
    "#     filename = input()\n",
    "#     file = location + filename\n",
    "#     with open(file, 'w', newline='', encoding='utf-8') as file: \n",
    "#         a = csv.writer(file, delimiter=',')\n",
    "#         headers = [\"Post ID\",\"Title\",\"Url\",\"Author\",\"Score\",\"Publish Date\",\"Total No. of Comments\",\"Permalink\",\"Flair\"]\n",
    "#         a.writerow(headers)\n",
    "#         for sub in subStats:\n",
    "#             a.writerow(subStats[sub][0])\n",
    "#             upload_count+=1\n",
    "            \n",
    "#         print(str(upload_count) + \" submissions have been uploaded\")\n",
    "# updateSubs_file()"
   ]
  },
  {
   "cell_type": "code",
   "execution_count": 11,
   "id": "f2635a6b-a9b5-4a01-b930-93ef71e60927",
   "metadata": {},
   "outputs": [],
   "source": [
    "# data = getPushshiftData('', '', '', 'nootropics')\n",
    "# # Will run until all posts have been gathered \n",
    "# # from the 'after' date up until before date\n",
    "# while len(data) > 0:\n",
    "#     for submission in data:\n",
    "#         collectSubData(submission)\n",
    "#         subCount+=1\n",
    "#     # Calls getPushshiftData() with the created date of the last submissio\n",
    "#     after = data[-1]['created_utc']\n",
    "#     data = getPushshiftData(query, after, before, sub)\n",
    "    \n",
    "# print(len(data))"
   ]
  },
  {
   "cell_type": "markdown",
   "id": "5f3ca0d9-3a20-41f5-8350-a68984b570db",
   "metadata": {},
   "source": [
    "### Next try - PSAW package \n",
    "This is essentially a combination of PRAW and pushshift.io"
   ]
  },
  {
   "cell_type": "code",
   "execution_count": 12,
   "id": "a6f3dce9-7869-4e02-a079-238a26bcb53a",
   "metadata": {},
   "outputs": [],
   "source": [
    "# I grabbed all articles with a score greater than 25. I chose 25 due to processing time. \n",
    "from psaw import PushshiftAPI\n",
    "api = PushshiftAPI()\n",
    "api_request_generator = api.search_submissions(subreddit='Nootropics', score = \">25\")\n",
    "nootropics_submissions = pd.DataFrame([submission.d_ for submission in api_request_generator])"
   ]
  },
  {
   "cell_type": "code",
   "execution_count": 13,
   "id": "7f523477-4b71-4ebb-afb7-d343eaa18590",
   "metadata": {},
   "outputs": [
    {
     "name": "stderr",
     "output_type": "stream",
     "text": [
      "<ipython-input-13-6a64383a465e>:3: SettingWithCopyWarning: \n",
      "A value is trying to be set on a copy of a slice from a DataFrame.\n",
      "Try using .loc[row_indexer,col_indexer] = value instead\n",
      "\n",
      "See the caveats in the documentation: https://pandas.pydata.org/pandas-docs/stable/user_guide/indexing.html#returning-a-view-versus-a-copy\n",
      "  df_noo['body'] = df_noo.loc[:, ('title')] + ' ' + df_noo.loc[:, ('selftext')]\n"
     ]
    },
    {
     "data": {
      "text/plain": [
       "0       My experience with 1000mg agmatine sulfate ove...\n",
       "1       Studies Which Show Gamma Band Brainwave Neurof...\n",
       "2       Striatal dopamine synthesis capacity reflects ...\n",
       "3       Strange taurine experience: improved sense of ...\n",
       "4       Vit D with Magnesium The doc prescribed me Vit...\n",
       "                              ...                        \n",
       "5797    Can anyone please recommend some homeopathic n...\n",
       "5798    I'm about to order modafinil for the first tim...\n",
       "5799    Profound Effects of Combining Choline and Pira...\n",
       "5800    Where do y'all get your meds? It strikes me th...\n",
       "5801      My Experience With Various Nootropics [deleted]\n",
       "Name: body, Length: 5802, dtype: object"
      ]
     },
     "execution_count": 13,
     "metadata": {},
     "output_type": "execute_result"
    }
   ],
   "source": [
    "# Combine the title with the text to create a single document\n",
    "df_noo = nootropics_submissions[['title', 'selftext']]\n",
    "df_noo['body'] = df_noo.loc[:, ('title')] + ' ' + df_noo.loc[:, ('selftext')]\n",
    "df_noo = df_noo.astype(str)\n",
    "df_noo.body"
   ]
  },
  {
   "cell_type": "markdown",
   "id": "d6d6b4cd-5eac-4372-92c0-4ef373ec158f",
   "metadata": {},
   "source": [
    "## Visualize the words in the articles"
   ]
  },
  {
   "cell_type": "code",
   "execution_count": 14,
   "id": "bab9bbfc-e454-4695-9a22-e14dc120994e",
   "metadata": {},
   "outputs": [],
   "source": [
    "#Create a wordclouds to begin to identify words that will not provide a lot of value\n",
    "def create_wordcloud(wordcloud_series):\n",
    "    df_text = ' '.join(str(wordcloud_series).lower() for v in wordcloud_series)\n",
    "    wordcloud = WordCloud(stopwords = None, random_state = 20, background_color = 'white',\n",
    "                      collocations=True).generate(df_text)\n",
    "    plt.imshow(wordcloud, interpolation='bilInear')\n",
    "    plt.axis('off')\n",
    "    plt.show()\n",
    "    plt.savefig('wordcloud.png')"
   ]
  },
  {
   "cell_type": "code",
   "execution_count": 15,
   "id": "e97b9404-684d-4ccf-b18c-eed24903fabe",
   "metadata": {},
   "outputs": [
    {
     "data": {
      "image/png": "[encoded data removed]",
      "text/plain": [
       "<Figure size 432x288 with 1 Axes>"
      ]
     },
     "metadata": {
      "needs_background": "light"
     },
     "output_type": "display_data"
    },
    {
     "data": {
      "text/plain": [
       "<Figure size 432x288 with 0 Axes>"
      ]
     },
     "metadata": {},
     "output_type": "display_data"
    }
   ],
   "source": [
    "create_wordcloud(df_noo['body'])\n",
    "plt.savefig('wordcloud.png')"
   ]
  },
  {
   "cell_type": "markdown",
   "id": "0dd8b124-9762-440c-9d7c-e2e026379306",
   "metadata": {},
   "source": [
    "## Preprocess data to remove words with little value"
   ]
  },
  {
   "cell_type": "code",
   "execution_count": 16,
   "id": "7f8548c2-b98c-4ce8-a213-e517792c74c2",
   "metadata": {},
   "outputs": [],
   "source": [
    "import contractions\n",
    "def noo_preprocess(df, column):\n",
    "    \n",
    "    apostrophe = lambda x: contractions.fix(x)\n",
    "    df[column] = df[column].map(apostrophe)\n",
    "    \n",
    "    alphanumeric = lambda x: re.sub('[^a-zA-Z]',' ', x)\n",
    "    lower_case = lambda x: x.lower()\n",
    "    new_line = lambda x: x.replace('\\n', '')\n",
    "    df[column] = df[column].map(alphanumeric).map(lower_case).map(new_line)\n",
    "    \n",
    "    spaces = lambda x: x.replace('  ', ' ')\n",
    "    df[column] = df[column].map(spaces)\n",
    "\n",
    "#    Remove specific words that are not informative\n",
    "    word_list = ['www', 'https', 'http', 'com', 'day' 'yall', 'wh', 'tn', 'im', 've', 'mg', 's']\n",
    "    for word in word_list:\n",
    "        remove_word = lambda x: re.sub(r'\\b'+word+r'\\b', '', x)\n",
    "        df[column] = df[column].map(remove_word)\n",
    "        \n",
    "        \n",
    "#     stemmer = LancasterStemmer()\n",
    "#     df[column] = df[column].map(lambda x: [stemmer.stem(y) for y in x.split(' ')])\n",
    "#     df[column] = df[column].map(lambda x: ' '.join(x))\n",
    "    df.body.replace('', np.nan, inplace = True) \n",
    "    df.dropna(subset = ['body'], inplace = True)\n",
    "    return df"
   ]
  },
  {
   "cell_type": "code",
   "execution_count": 17,
   "id": "18ef629c-fed1-43a0-a2ef-63b6d5603f0b",
   "metadata": {},
   "outputs": [
    {
     "data": {
      "text/plain": [
       "'l theanine saved my life i just could not pass my driving test no matter what i would always freak out and get too nervous on the day this happened no matter how good my lessons were throughout lockdown i knew my test was coming up the day after it ended i was researching cbd to try and calm myself down but in the uk it was all too expensive or shit i noticed a few gummies contained l theanine so i did lots of research i saw that it emphasised relaxation and focus which is what i needed not even joking took them  days in a row with my coffee drove amazingly in my lesson and completely remained focused my instructor said she would never seen me drive so well the fog was gone eventually i passed my test   it got me through all i focused on was the driving and i did not get anxious  thank you l theanine you god send '"
      ]
     },
     "execution_count": 17,
     "metadata": {},
     "output_type": "execute_result"
    }
   ],
   "source": [
    "df_noo_clean = noo_preprocess(df_noo, 'body')\n",
    "df_noo_clean.body[41]"
   ]
  },
  {
   "cell_type": "code",
   "execution_count": 18,
   "id": "f14f83b4-b00a-4644-b6d1-fc3e267eda15",
   "metadata": {},
   "outputs": [
    {
     "data": {
      "image/png": "[encoded data removed]",
      "text/plain": [
       "<Figure size 432x288 with 1 Axes>"
      ]
     },
     "metadata": {
      "needs_background": "light"
     },
     "output_type": "display_data"
    },
    {
     "data": {
      "text/plain": [
       "<Figure size 432x288 with 0 Axes>"
      ]
     },
     "metadata": {},
     "output_type": "display_data"
    }
   ],
   "source": [
    "# See how the preprocess changed the word frequency\n",
    "create_wordcloud(df_noo_clean['body'])"
   ]
  },
  {
   "cell_type": "markdown",
   "id": "fcd9bfab-8f28-480c-add6-287fb78310b1",
   "metadata": {},
   "source": [
    "## Used named entity recognition to identify the nootropics\n",
    "Initially started using nltk but decided to use spacy for this. Needed to increase max_length to process all characters. "
   ]
  },
  {
   "cell_type": "code",
   "execution_count": 19,
   "id": "cd27dd2f-c841-4518-a78c-26aa6345a577",
   "metadata": {},
   "outputs": [],
   "source": [
    "# def NER_preprocess(df, column):\n",
    "#     df[column] = df[column].map(lambda x: nltk.word_tokenize(x))\n",
    "#     df[column] = df[column].map(lambda x: nltk.pos_tag(x))\n",
    "    \n",
    "#     pattern = 'NP: {<DT>?<JJ>*<NN>}'\n",
    "#     cp = nltk.RegexpParser(pattern)\n",
    "#     cs = df[column].map(lambda x: cp.parse(x))\n",
    "#     return df"
   ]
  },
  {
   "cell_type": "code",
   "execution_count": 20,
   "id": "c3d57d31-71a3-4524-b3b2-1fedc6b33d57",
   "metadata": {},
   "outputs": [],
   "source": [
    "import spacy\n",
    "from collections import Counter\n",
    "from spacy.lang.en import English\n",
    "import en_core_web_sm\n",
    "nlp = en_core_web_sm.load(max_length = 5000000)"
   ]
  },
  {
   "cell_type": "code",
   "execution_count": 21,
   "id": "ad83f3ce-e8d9-4ce2-9764-7351d47e4c59",
   "metadata": {},
   "outputs": [
    {
     "data": {
      "text/plain": [
       "[('first', 782),\n",
       " ('one', 727),\n",
       " ('two', 405),\n",
       " ('daily', 403),\n",
       " ('nlm nih', 346),\n",
       " ('ncbi nlm nih', 232),\n",
       " ('hours', 223),\n",
       " ('today', 222),\n",
       " ('the day', 221),\n",
       " ('adhd', 199),\n",
       " ('org', 138),\n",
       " ('second', 132),\n",
       " ('amazon', 131),\n",
       " ('months', 119),\n",
       " ('three', 118),\n",
       " ('half', 114),\n",
       " ('aniracetam', 114),\n",
       " ('nih', 108),\n",
       " ('years', 108),\n",
       " ('night', 100)]"
      ]
     },
     "execution_count": 21,
     "metadata": {},
     "output_type": "execute_result"
    }
   ],
   "source": [
    "tokens = nlp(''.join(str(df_noo_clean.body.tolist())))\n",
    "items = [x.text for x in tokens.ents]\n",
    "Counter(items).most_common(20)"
   ]
  },
  {
   "cell_type": "markdown",
   "id": "c0ac3234-bf13-4bcb-8ace-f2e7bc8c0e6a",
   "metadata": {},
   "source": [
    "#### It's not clear which label the nootropics will be categorized under, so I tried several below\n",
    "\n",
    "None of the labels clearly showed the nootropics, in fact all labels showed at least a few nootropics."
   ]
  },
  {
   "cell_type": "code",
   "execution_count": 22,
   "id": "4bf1dfb1-da8a-40f8-9a32-4e8babf8f3da",
   "metadata": {},
   "outputs": [],
   "source": [
    "def NER_labels(label):\n",
    "    label_list = []\n",
    "    for ent in tokens.ents:\n",
    "        if ent.label_ == label:\n",
    "            label_list.append(ent.text)\n",
    "\n",
    "    label_counts = Counter(label_list).most_common(20)\n",
    "    df_label = pd.DataFrame(label_counts, columns =['text', 'count'])\n",
    "    return df_label"
   ]
  },
  {
   "cell_type": "code",
   "execution_count": 23,
   "id": "c16a6ab2-b138-4cd4-82ce-e2014c9b2ae4",
   "metadata": {},
   "outputs": [
    {
     "data": {
      "text/html": [
       "<div>\n",
       "<style scoped>\n",
       "    .dataframe tbody tr th:only-of-type {\n",
       "        vertical-align: middle;\n",
       "    }\n",
       "\n",
       "    .dataframe tbody tr th {\n",
       "        vertical-align: top;\n",
       "    }\n",
       "\n",
       "    .dataframe thead th {\n",
       "        text-align: right;\n",
       "    }\n",
       "</style>\n",
       "<table border=\"1\" class=\"dataframe\">\n",
       "  <thead>\n",
       "    <tr style=\"text-align: right;\">\n",
       "      <th></th>\n",
       "      <th>text</th>\n",
       "      <th>count</th>\n",
       "    </tr>\n",
       "  </thead>\n",
       "  <tbody>\n",
       "    <tr>\n",
       "      <th>0</th>\n",
       "      <td>bpc</td>\n",
       "      <td>75</td>\n",
       "    </tr>\n",
       "    <tr>\n",
       "      <th>1</th>\n",
       "      <td>europe</td>\n",
       "      <td>16</td>\n",
       "    </tr>\n",
       "    <tr>\n",
       "      <th>2</th>\n",
       "      <td>earth</td>\n",
       "      <td>5</td>\n",
       "    </tr>\n",
       "    <tr>\n",
       "      <th>3</th>\n",
       "      <td>powder city</td>\n",
       "      <td>5</td>\n",
       "    </tr>\n",
       "    <tr>\n",
       "      <th>4</th>\n",
       "      <td>mediterranean</td>\n",
       "      <td>4</td>\n",
       "    </tr>\n",
       "    <tr>\n",
       "      <th>5</th>\n",
       "      <td>silicon valley</td>\n",
       "      <td>4</td>\n",
       "    </tr>\n",
       "    <tr>\n",
       "      <th>6</th>\n",
       "      <td>west</td>\n",
       "      <td>3</td>\n",
       "    </tr>\n",
       "    <tr>\n",
       "      <th>7</th>\n",
       "      <td>pkcs</td>\n",
       "      <td>3</td>\n",
       "    </tr>\n",
       "    <tr>\n",
       "      <th>8</th>\n",
       "      <td>africa</td>\n",
       "      <td>3</td>\n",
       "    </tr>\n",
       "    <tr>\n",
       "      <th>9</th>\n",
       "      <td>eastern europe</td>\n",
       "      <td>3</td>\n",
       "    </tr>\n",
       "    <tr>\n",
       "      <th>10</th>\n",
       "      <td>flak</td>\n",
       "      <td>2</td>\n",
       "    </tr>\n",
       "    <tr>\n",
       "      <th>11</th>\n",
       "      <td>delta</td>\n",
       "      <td>2</td>\n",
       "    </tr>\n",
       "    <tr>\n",
       "      <th>12</th>\n",
       "      <td>tablespoon</td>\n",
       "      <td>2</td>\n",
       "    </tr>\n",
       "    <tr>\n",
       "      <th>13</th>\n",
       "      <td>south asia</td>\n",
       "      <td>1</td>\n",
       "    </tr>\n",
       "    <tr>\n",
       "      <th>14</th>\n",
       "      <td>hormesis</td>\n",
       "      <td>1</td>\n",
       "    </tr>\n",
       "    <tr>\n",
       "      <th>15</th>\n",
       "      <td>dopaminergic drive</td>\n",
       "      <td>1</td>\n",
       "    </tr>\n",
       "    <tr>\n",
       "      <th>16</th>\n",
       "      <td>the ginseng taurine</td>\n",
       "      <td>1</td>\n",
       "    </tr>\n",
       "    <tr>\n",
       "      <th>17</th>\n",
       "      <td>the insula</td>\n",
       "      <td>1</td>\n",
       "    </tr>\n",
       "    <tr>\n",
       "      <th>18</th>\n",
       "      <td>bpc</td>\n",
       "      <td>1</td>\n",
       "    </tr>\n",
       "    <tr>\n",
       "      <th>19</th>\n",
       "      <td>androstanediol stan</td>\n",
       "      <td>1</td>\n",
       "    </tr>\n",
       "  </tbody>\n",
       "</table>\n",
       "</div>"
      ],
      "text/plain": [
       "                   text  count\n",
       "0                   bpc     75\n",
       "1                europe     16\n",
       "2                 earth      5\n",
       "3           powder city      5\n",
       "4         mediterranean      4\n",
       "5        silicon valley      4\n",
       "6                  west      3\n",
       "7                  pkcs      3\n",
       "8                africa      3\n",
       "9        eastern europe      3\n",
       "10                 flak      2\n",
       "11                delta      2\n",
       "12           tablespoon      2\n",
       "13           south asia      1\n",
       "14             hormesis      1\n",
       "15   dopaminergic drive      1\n",
       "16  the ginseng taurine      1\n",
       "17      the insula           1\n",
       "18              bpc          1\n",
       "19  androstanediol stan      1"
      ]
     },
     "execution_count": 23,
     "metadata": {},
     "output_type": "execute_result"
    }
   ],
   "source": [
    "person_labels = NER_labels('PERSON')\n",
    "norp_labels = NER_labels('NORP')\n",
    "org_labels = NER_labels('ORG')\n",
    "gpe_labels = NER_labels('GPE')\n",
    "product_labels = NER_labels('PRODUCT')\n",
    "fac_labels = NER_labels('FAC')\n",
    "loc_labels = NER_labels('LOC')\n",
    "loc_labels"
   ]
  },
  {
   "cell_type": "code",
   "execution_count": null,
   "id": "7dcb3ffc-0be7-4d0b-99cc-35754d2a3646",
   "metadata": {},
   "outputs": [],
   "source": []
  },
  {
   "cell_type": "markdown",
   "id": "2c340377-2242-4d61-87de-983780f9b8f5",
   "metadata": {},
   "source": [
    "## Vectorize the text data"
   ]
  },
  {
   "cell_type": "markdown",
   "id": "5651e7d4-8ed5-4473-b850-4bc93fb5e9e0",
   "metadata": {},
   "source": [
    "### First I tried good old count vectorize\n",
    "The results help me decide to remove a few more words in the preprocessing and generally made sense. I moved forward with tfidf, since the topic modeling made more sense. "
   ]
  },
  {
   "cell_type": "code",
   "execution_count": 24,
   "id": "1d70bd39-ffd8-41c0-ba4a-6dc08c7fd8d5",
   "metadata": {},
   "outputs": [],
   "source": [
    "def count_vect(df, column):\n",
    "    cv1 = CountVectorizer(stop_words= 'english')\n",
    "    df_fit = cv1.fit_transform(df['body'])\n",
    "    df_fit.toarray()\n",
    "    df = pd.DataFrame(df_fit.toarray(), columns=cv1.get_feature_names())\n",
    "    return df, cv1"
   ]
  },
  {
   "cell_type": "code",
   "execution_count": 25,
   "id": "67ffd004-e6d1-4d63-8cfd-bc243812cdd7",
   "metadata": {
    "jupyter": {
     "source_hidden": true
    },
    "tags": []
   },
   "outputs": [],
   "source": [
    "df_noo_clean_cv, cv1 = count_vect(df_noo_clean, 'body')\n",
    "# df_noo_clean_cv.sum().sort_values(ascending = False).head(50)"
   ]
  },
  {
   "cell_type": "code",
   "execution_count": 26,
   "id": "137b4d7d-270e-42d2-baa9-ed6cc7c6fd22",
   "metadata": {},
   "outputs": [],
   "source": [
    "def tfidf(df, column):\n",
    "    tfidf = TfidfVectorizer(stop_words='english', max_df = 0.9)\n",
    "    df_noo1_tfidf = tfidf.fit_transform(df_noo_clean['body'])\n",
    "    df_tfidf = pd.DataFrame(df_noo1_tfidf.toarray(), columns=tfidf.get_feature_names())\n",
    "    return df_tfidf, tfidf, tfidf.get_feature_names()"
   ]
  },
  {
   "cell_type": "code",
   "execution_count": null,
   "id": "aca523ba-e344-46c3-9489-f5aee8558253",
   "metadata": {},
   "outputs": [],
   "source": []
  },
  {
   "cell_type": "code",
   "execution_count": 27,
   "id": "52084f62-a745-4b61-8e83-3b6dc4ef46d6",
   "metadata": {
    "tags": []
   },
   "outputs": [],
   "source": [
    "df_noo_clean_ti, tfidf, ti_feature_names = tfidf(df_noo_clean, 'body')\n",
    "sums_tfidf = df_noo_clean_ti.sum()\n",
    "# sums_tfidf.sort_values(ascending = False).head(50)"
   ]
  },
  {
   "cell_type": "code",
   "execution_count": 28,
   "id": "a9fa2b39-abb5-463f-a16b-f8703dd0c825",
   "metadata": {},
   "outputs": [],
   "source": [
    "#### I'm interested in what the t-SNE will look like, and if there are any clear clusters "
   ]
  },
  {
   "cell_type": "markdown",
   "id": "e01a165f-fab5-4085-8cb0-d2e961428c24",
   "metadata": {},
   "source": [
    "# Dimensionality reduction by topic modeling\n",
    "I tried using LSA, NMF and LDA. NMF produced the most sensible topics. "
   ]
  },
  {
   "cell_type": "code",
   "execution_count": 29,
   "id": "97f9eba6-3c51-451b-af73-59fb335c48e2",
   "metadata": {},
   "outputs": [],
   "source": [
    "def display_topics(model, feature_names, no_top_words, topic_names=None):\n",
    "    for ix, topic in enumerate(model.components_):\n",
    "        if not topic_names or not topic_names[ix]:\n",
    "            print(\"\\nTopic \", ix)\n",
    "        else:\n",
    "            print(\"\\nTopic: '\",topic_names[ix],\"'\")\n",
    "        print(\", \".join([feature_names[i]\n",
    "                        for i in topic.argsort()[:-no_top_words - 1:-1]]))"
   ]
  },
  {
   "cell_type": "markdown",
   "id": "2fda796e-5864-4b3f-8b5a-280eabdff950",
   "metadata": {},
   "source": [
    "First try LSA. I think three components here is the best"
   ]
  },
  {
   "cell_type": "code",
   "execution_count": 30,
   "id": "ca8ade4b-32f0-4dcf-a5ab-23319971ccb5",
   "metadata": {
    "tags": []
   },
   "outputs": [
    {
     "name": "stdout",
     "output_type": "stream",
     "text": [
      "\n",
      "Topic  0\n",
      "nootropics, like, effects, just, day, sleep, feel, brain, caffeine, time\n",
      "None\n",
      "\n",
      "\n",
      "Topic  0\n",
      "nootropics, like, effects, just, day, sleep, feel, brain, caffeine, time\n",
      "\n",
      "Topic  1\n",
      "brain, cognitive, memory, pubmed, ncbi, nih, nlm, gov, study, function\n",
      "None\n",
      "\n",
      "\n",
      "Topic  0\n",
      "nootropics, like, effects, just, day, sleep, feel, brain, caffeine, time\n",
      "\n",
      "Topic  1\n",
      "brain, cognitive, memory, pubmed, ncbi, nih, nlm, study, gov, improves\n",
      "\n",
      "Topic  2\n",
      "nootropics, nootropic, brain, drugs, new, people, best, piracetam, reddit, guide\n",
      "None\n",
      "\n",
      "\n",
      "Topic  0\n",
      "nootropics, like, effects, just, day, sleep, feel, brain, caffeine, time\n",
      "\n",
      "Topic  1\n",
      "brain, cognitive, memory, pubmed, ncbi, nih, nlm, study, gov, improves\n",
      "\n",
      "Topic  2\n",
      "nootropics, nootropic, brain, new, best, drugs, people, reddit, guide, research\n",
      "\n",
      "Topic  3\n",
      "caffeine, ncbi, nlm, theanine, gov, nih, pubmed, pmc, effects, coffee\n",
      "None\n",
      "\n",
      "\n",
      "Topic  0\n",
      "nootropics, like, effects, just, day, sleep, feel, brain, caffeine, time\n",
      "\n",
      "Topic  1\n",
      "brain, cognitive, memory, pubmed, ncbi, nih, nlm, gov, study, improves\n",
      "\n",
      "Topic  2\n",
      "nootropics, nootropic, drugs, new, people, best, brain, reddit, guide, piracetam\n",
      "\n",
      "Topic  3\n",
      "caffeine, ncbi, nlm, gov, nih, pubmed, theanine, pmc, coffee, effects\n",
      "\n",
      "Topic  4\n",
      "caffeine, cognitive, theanine, nootropics, controlled, trial, randomized, blind, double, placebo\n",
      "None\n",
      "\n",
      "\n",
      "Topic  0\n",
      "nootropics, like, effects, just, day, sleep, feel, brain, caffeine, time\n",
      "\n",
      "Topic  1\n",
      "brain, cognitive, memory, pubmed, ncbi, nih, nlm, gov, study, improves\n",
      "\n",
      "Topic  2\n",
      "nootropics, nootropic, brain, new, drugs, best, people, reddit, guide, piracetam\n",
      "\n",
      "Topic  3\n",
      "caffeine, ncbi, nlm, gov, nih, theanine, pubmed, pmc, effects, coffee\n",
      "\n",
      "Topic  4\n",
      "caffeine, cognitive, theanine, nootropics, controlled, trial, blind, randomized, double, placebo\n",
      "\n",
      "Topic  5\n",
      "sleep, nootropics, ncbi, nlm, nih, gov, pubmed, nan, modafinil, deprivation\n",
      "None\n",
      "\n",
      "\n",
      "Topic  0\n",
      "nootropics, like, effects, just, day, sleep, feel, brain, caffeine, time\n",
      "\n",
      "Topic  1\n",
      "brain, cognitive, memory, pubmed, ncbi, nih, nlm, gov, study, improves\n",
      "\n",
      "Topic  2\n",
      "nootropics, nootropic, brain, new, drugs, best, people, piracetam, reddit, guide\n",
      "\n",
      "Topic  3\n",
      "caffeine, ncbi, nlm, gov, nih, theanine, pubmed, pmc, coffee, effects\n",
      "\n",
      "Topic  4\n",
      "caffeine, cognitive, theanine, nootropics, controlled, trial, blind, randomized, double, placebo\n",
      "\n",
      "Topic  5\n",
      "sleep, nootropics, ncbi, nlm, nih, gov, pubmed, deprivation, cognitive, pmc\n",
      "\n",
      "Topic  6\n",
      "nan, modafinil, magnesium, caffeine, nootropics, term, long, theanine, exercise, brain\n",
      "None\n",
      "\n",
      "\n",
      "Topic  0\n",
      "nootropics, like, effects, just, day, sleep, feel, brain, caffeine, time\n",
      "\n",
      "Topic  1\n",
      "brain, cognitive, memory, pubmed, ncbi, nih, nlm, gov, study, function\n",
      "\n",
      "Topic  2\n",
      "nootropics, nootropic, brain, new, best, drugs, people, reddit, guide, research\n",
      "\n",
      "Topic  3\n",
      "caffeine, ncbi, nlm, gov, nih, pubmed, theanine, pmc, coffee, effects\n",
      "\n",
      "Topic  4\n",
      "caffeine, cognitive, theanine, nootropics, controlled, trial, randomized, blind, double, placebo\n",
      "\n",
      "Topic  5\n",
      "sleep, nootropics, ncbi, nlm, nih, gov, pubmed, modafinil, deprivation, pmc\n",
      "\n",
      "Topic  6\n",
      "nan, magnesium, brain, theanine, vitamin, study, deleted, fish, taking, drugs\n",
      "\n",
      "Topic  7\n",
      "controlled, trial, randomized, placebo, depression, anxiety, blind, double, cognitive, magnesium\n",
      "None\n",
      "\n",
      "\n",
      "Topic  0\n",
      "nootropics, like, effects, just, day, sleep, feel, brain, caffeine, time\n",
      "\n",
      "Topic  1\n",
      "brain, cognitive, memory, pubmed, ncbi, nih, nlm, gov, study, improves\n",
      "\n",
      "Topic  2\n",
      "nootropics, nootropic, brain, drugs, new, best, people, reddit, piracetam, guide\n",
      "\n",
      "Topic  3\n",
      "caffeine, ncbi, nlm, gov, nih, pubmed, theanine, pmc, coffee, effects\n",
      "\n",
      "Topic  4\n",
      "caffeine, cognitive, theanine, nootropics, controlled, trial, blind, randomized, double, placebo\n",
      "\n",
      "Topic  5\n",
      "sleep, nootropics, ncbi, nlm, nih, gov, pubmed, deprivation, pmc, modafinil\n",
      "\n",
      "Topic  6\n",
      "nan, sleep, nootropics, exercise, effects, ncbi, healthy, long, pubmed, nlm\n",
      "\n",
      "Topic  7\n",
      "controlled, cognitive, trial, randomized, placebo, anxiety, blind, double, depression, magnesium\n",
      "\n",
      "Topic  8\n",
      "brain, controlled, placebo, magnesium, blind, double, trial, randomized, study, nootropics\n",
      "None\n",
      "\n",
      "\n",
      "Topic  0\n",
      "nootropics, like, effects, just, day, sleep, feel, brain, caffeine, time\n",
      "\n",
      "Topic  1\n",
      "brain, cognitive, memory, pubmed, ncbi, nih, nlm, gov, study, improves\n",
      "\n",
      "Topic  2\n",
      "nootropics, nootropic, brain, new, best, drugs, people, piracetam, reddit, guide\n",
      "\n",
      "Topic  3\n",
      "caffeine, ncbi, nlm, gov, nih, pubmed, theanine, pmc, coffee, effects\n",
      "\n",
      "Topic  4\n",
      "caffeine, cognitive, nootropics, theanine, controlled, trial, randomized, blind, double, placebo\n",
      "\n",
      "Topic  5\n",
      "sleep, nootropics, ncbi, nlm, nih, gov, pubmed, deprivation, pmc, modafinil\n",
      "\n",
      "Topic  6\n",
      "nan, sleep, nootropics, ncbi, nlm, gov, nih, pubmed, deprivation, term\n",
      "\n",
      "Topic  7\n",
      "controlled, trial, anxiety, randomized, placebo, cognitive, blind, double, depression, magnesium\n",
      "\n",
      "Topic  8\n",
      "brain, controlled, placebo, blind, double, trial, randomized, study, magnesium, nootropics\n",
      "\n",
      "Topic  9\n",
      "magnesium, nootropics, anxiety, depression, vitamin, memory, stress, theanine, deleted, supplementation\n",
      "None\n",
      "\n"
     ]
    }
   ],
   "source": [
    "for number in [1,2,3,4,5,6,7,8,9,10]:\n",
    "    lsa = TruncatedSVD(number)\n",
    "    lsa.fit_transform(df_noo_clean_ti)\n",
    "    print(str(display_topics(lsa, ti_feature_names, 10)) + '\\n')"
   ]
  },
  {
   "cell_type": "markdown",
   "id": "8b309c7f-b554-49fd-83b0-5ed4a69ed0f7",
   "metadata": {},
   "source": [
    "Now I will try NMF. I got very similar results to LSA, best with 3 components. "
   ]
  },
  {
   "cell_type": "code",
   "execution_count": 31,
   "id": "43881c0d-7490-411e-a840-14931555863f",
   "metadata": {
    "tags": []
   },
   "outputs": [
    {
     "name": "stderr",
     "output_type": "stream",
     "text": [
      "/Applications/anaconda3/envs/metis/lib/python3.8/site-packages/sklearn/decomposition/_nmf.py:312: FutureWarning: The 'init' value, when 'init=None' and n_components is less than n_samples and n_features, will be changed from 'nndsvd' to 'nndsvda' in 1.1 (renaming of 0.26).\n",
      "  warnings.warn((\"The 'init' value, when 'init=None' and \"\n"
     ]
    },
    {
     "name": "stdout",
     "output_type": "stream",
     "text": [
      "\n",
      "Topic  0\n",
      "nootropics, like, effects, just, day, sleep, feel, brain, caffeine, time\n",
      "components1None\n",
      "\n"
     ]
    },
    {
     "name": "stderr",
     "output_type": "stream",
     "text": [
      "/Applications/anaconda3/envs/metis/lib/python3.8/site-packages/sklearn/decomposition/_nmf.py:312: FutureWarning: The 'init' value, when 'init=None' and n_components is less than n_samples and n_features, will be changed from 'nndsvd' to 'nndsvda' in 1.1 (renaming of 0.26).\n",
      "  warnings.warn((\"The 'init' value, when 'init=None' and \"\n"
     ]
    },
    {
     "name": "stdout",
     "output_type": "stream",
     "text": [
      "\n",
      "Topic  0\n",
      "nootropics, like, just, day, feel, sleep, caffeine, time, taking, anxiety\n",
      "\n",
      "Topic  1\n",
      "brain, cognitive, memory, study, pubmed, ncbi, nih, nlm, gov, effects\n",
      "components2None\n",
      "\n"
     ]
    },
    {
     "name": "stderr",
     "output_type": "stream",
     "text": [
      "/Applications/anaconda3/envs/metis/lib/python3.8/site-packages/sklearn/decomposition/_nmf.py:312: FutureWarning: The 'init' value, when 'init=None' and n_components is less than n_samples and n_features, will be changed from 'nndsvd' to 'nndsvda' in 1.1 (renaming of 0.26).\n",
      "  warnings.warn((\"The 'init' value, when 'init=None' and \"\n"
     ]
    },
    {
     "name": "stdout",
     "output_type": "stream",
     "text": [
      "\n",
      "Topic  0\n",
      "day, like, feel, just, sleep, caffeine, taking, anxiety, time, theanine\n",
      "\n",
      "Topic  1\n",
      "brain, cognitive, memory, study, pubmed, ncbi, nih, nlm, gov, effects\n",
      "\n",
      "Topic  2\n",
      "nootropics, nootropic, best, people, use, new, drugs, stack, guys, reddit\n",
      "components3None\n",
      "\n"
     ]
    },
    {
     "name": "stderr",
     "output_type": "stream",
     "text": [
      "/Applications/anaconda3/envs/metis/lib/python3.8/site-packages/sklearn/decomposition/_nmf.py:312: FutureWarning: The 'init' value, when 'init=None' and n_components is less than n_samples and n_features, will be changed from 'nndsvd' to 'nndsvda' in 1.1 (renaming of 0.26).\n",
      "  warnings.warn((\"The 'init' value, when 'init=None' and \"\n"
     ]
    },
    {
     "name": "stdout",
     "output_type": "stream",
     "text": [
      "\n",
      "Topic  0\n",
      "day, like, feel, just, caffeine, sleep, taking, anxiety, time, theanine\n",
      "\n",
      "Topic  1\n",
      "brain, cognitive, memory, study, function, effects, performance, exercise, healthy, improves\n",
      "\n",
      "Topic  2\n",
      "nootropics, nootropic, best, people, use, drugs, new, stack, reddit, guys\n",
      "\n",
      "Topic  3\n",
      "ncbi, nih, nlm, gov, pubmed, pmc, dopamine, articles, receptor, receptors\n",
      "components4None\n",
      "\n"
     ]
    },
    {
     "name": "stderr",
     "output_type": "stream",
     "text": [
      "/Applications/anaconda3/envs/metis/lib/python3.8/site-packages/sklearn/decomposition/_nmf.py:312: FutureWarning: The 'init' value, when 'init=None' and n_components is less than n_samples and n_features, will be changed from 'nndsvd' to 'nndsvda' in 1.1 (renaming of 0.26).\n",
      "  warnings.warn((\"The 'init' value, when 'init=None' and \"\n"
     ]
    },
    {
     "name": "stdout",
     "output_type": "stream",
     "text": [
      "\n",
      "Topic  0\n",
      "like, day, feel, just, sleep, taking, anxiety, time, did, really\n",
      "\n",
      "Topic  1\n",
      "brain, cognitive, memory, study, function, effects, performance, exercise, improves, healthy\n",
      "\n",
      "Topic  2\n",
      "nootropics, nootropic, best, people, use, new, drugs, stack, guys, reddit\n",
      "\n",
      "Topic  3\n",
      "ncbi, nih, nlm, gov, pubmed, pmc, dopamine, articles, receptor, receptors\n",
      "\n",
      "Topic  4\n",
      "caffeine, theanine, coffee, effects, tea, drink, pills, green, does, combo\n",
      "components5None\n",
      "\n"
     ]
    },
    {
     "name": "stderr",
     "output_type": "stream",
     "text": [
      "/Applications/anaconda3/envs/metis/lib/python3.8/site-packages/sklearn/decomposition/_nmf.py:312: FutureWarning: The 'init' value, when 'init=None' and n_components is less than n_samples and n_features, will be changed from 'nndsvd' to 'nndsvda' in 1.1 (renaming of 0.26).\n",
      "  warnings.warn((\"The 'init' value, when 'init=None' and \"\n"
     ]
    },
    {
     "name": "stdout",
     "output_type": "stream",
     "text": [
      "\n",
      "Topic  0\n",
      "like, just, day, feel, anxiety, taking, time, did, really, effects\n",
      "\n",
      "Topic  1\n",
      "brain, cognitive, memory, study, function, effects, performance, healthy, controlled, improves\n",
      "\n",
      "Topic  2\n",
      "nootropics, nootropic, best, use, people, drugs, new, stack, reddit, guys\n",
      "\n",
      "Topic  3\n",
      "ncbi, nih, nlm, gov, pubmed, pmc, dopamine, articles, receptor, receptors\n",
      "\n",
      "Topic  4\n",
      "caffeine, theanine, coffee, tea, effects, drink, pills, green, does, drinking\n",
      "\n",
      "Topic  5\n",
      "sleep, deprivation, melatonin, night, hours, quality, modafinil, wake, asleep, rem\n",
      "components6None\n",
      "\n"
     ]
    },
    {
     "name": "stderr",
     "output_type": "stream",
     "text": [
      "/Applications/anaconda3/envs/metis/lib/python3.8/site-packages/sklearn/decomposition/_nmf.py:312: FutureWarning: The 'init' value, when 'init=None' and n_components is less than n_samples and n_features, will be changed from 'nndsvd' to 'nndsvda' in 1.1 (renaming of 0.26).\n",
      "  warnings.warn((\"The 'init' value, when 'init=None' and \"\n"
     ]
    },
    {
     "name": "stdout",
     "output_type": "stream",
     "text": [
      "\n",
      "Topic  0\n",
      "like, just, day, feel, anxiety, taking, time, did, really, effects\n",
      "\n",
      "Topic  1\n",
      "brain, cognitive, memory, study, function, effects, performance, healthy, controlled, improves\n",
      "\n",
      "Topic  2\n",
      "nootropics, nootropic, best, use, people, drugs, new, stack, reddit, guys\n",
      "\n",
      "Topic  3\n",
      "ncbi, nih, nlm, gov, pubmed, pmc, dopamine, articles, receptor, receptors\n",
      "\n",
      "Topic  4\n",
      "caffeine, theanine, coffee, tea, effects, drink, pills, green, does, drinking\n",
      "\n",
      "Topic  5\n",
      "sleep, deprivation, melatonin, night, hours, quality, modafinil, wake, asleep, rem\n",
      "\n",
      "Topic  6\n",
      "nan, gut, bacteria, microbiome, microbes, health, probiotics, diet, amp, parkinson\n",
      "components7None\n",
      "\n"
     ]
    },
    {
     "name": "stderr",
     "output_type": "stream",
     "text": [
      "/Applications/anaconda3/envs/metis/lib/python3.8/site-packages/sklearn/decomposition/_nmf.py:312: FutureWarning: The 'init' value, when 'init=None' and n_components is less than n_samples and n_features, will be changed from 'nndsvd' to 'nndsvda' in 1.1 (renaming of 0.26).\n",
      "  warnings.warn((\"The 'init' value, when 'init=None' and \"\n"
     ]
    },
    {
     "name": "stdout",
     "output_type": "stream",
     "text": [
      "\n",
      "Topic  0\n",
      "like, just, day, feel, anxiety, taking, time, did, really, effects\n",
      "\n",
      "Topic  1\n",
      "cognitive, memory, controlled, trial, effects, study, randomized, adults, double, blind\n",
      "\n",
      "Topic  2\n",
      "nootropics, nootropic, best, use, people, new, drugs, stack, reddit, guys\n",
      "\n",
      "Topic  3\n",
      "ncbi, nih, nlm, gov, pubmed, pmc, dopamine, articles, receptor, receptors\n",
      "\n",
      "Topic  4\n",
      "caffeine, theanine, coffee, tea, effects, drink, pills, does, green, drinking\n",
      "\n",
      "Topic  5\n",
      "sleep, deprivation, melatonin, night, hours, quality, wake, modafinil, asleep, exercise\n",
      "\n",
      "Topic  6\n",
      "nan, magnesium, vitamin, deficiency, supplementation, depression, threonate, citrate, glycinate, supplement\n",
      "\n",
      "Topic  7\n",
      "brain, exercise, gut, health, fog, study, does, diet, human, cells\n",
      "components8None\n",
      "\n"
     ]
    },
    {
     "name": "stderr",
     "output_type": "stream",
     "text": [
      "/Applications/anaconda3/envs/metis/lib/python3.8/site-packages/sklearn/decomposition/_nmf.py:312: FutureWarning: The 'init' value, when 'init=None' and n_components is less than n_samples and n_features, will be changed from 'nndsvd' to 'nndsvda' in 1.1 (renaming of 0.26).\n",
      "  warnings.warn((\"The 'init' value, when 'init=None' and \"\n"
     ]
    },
    {
     "name": "stdout",
     "output_type": "stream",
     "text": [
      "\n",
      "Topic  0\n",
      "like, just, day, feel, anxiety, taking, time, did, really, effects\n",
      "\n",
      "Topic  1\n",
      "brain, exercise, gut, study, health, fog, does, diet, human, cells\n",
      "\n",
      "Topic  2\n",
      "nootropics, nootropic, best, use, people, drugs, new, stack, reddit, guys\n",
      "\n",
      "Topic  3\n",
      "ncbi, nih, nlm, gov, pubmed, pmc, dopamine, articles, receptor, receptors\n",
      "\n",
      "Topic  4\n",
      "cognitive, controlled, trial, randomized, blind, double, placebo, study, adults, function\n",
      "\n",
      "Topic  5\n",
      "sleep, deprivation, melatonin, hours, night, quality, wake, modafinil, asleep, exercise\n",
      "\n",
      "Topic  6\n",
      "nan, nicotine, nootropic, gum, experiment, favorite, harmful, increases, cognition, smoking\n",
      "\n",
      "Topic  7\n",
      "caffeine, theanine, coffee, tea, effects, drink, pills, does, green, drinking\n",
      "\n",
      "Topic  8\n",
      "memory, working, learning, mice, term, improves, hippocampal, neurogenesis, enhances, long\n",
      "components9None\n",
      "\n"
     ]
    },
    {
     "name": "stderr",
     "output_type": "stream",
     "text": [
      "/Applications/anaconda3/envs/metis/lib/python3.8/site-packages/sklearn/decomposition/_nmf.py:312: FutureWarning: The 'init' value, when 'init=None' and n_components is less than n_samples and n_features, will be changed from 'nndsvd' to 'nndsvda' in 1.1 (renaming of 0.26).\n",
      "  warnings.warn((\"The 'init' value, when 'init=None' and \"\n"
     ]
    },
    {
     "name": "stdout",
     "output_type": "stream",
     "text": [
      "\n",
      "Topic  0\n",
      "like, just, day, feel, time, taking, did, really, anxiety, effects\n",
      "\n",
      "Topic  1\n",
      "memory, cognitive, effects, function, performance, improves, term, mice, healthy, working\n",
      "\n",
      "Topic  2\n",
      "nootropics, nootropic, best, use, people, new, drugs, stack, reddit, guide\n",
      "\n",
      "Topic  3\n",
      "ncbi, nih, nlm, gov, pubmed, pmc, dopamine, articles, receptors, receptor\n",
      "\n",
      "Topic  4\n",
      "controlled, trial, placebo, blind, double, randomized, study, adults, randomised, supplementation\n",
      "\n",
      "Topic  5\n",
      "sleep, deprivation, melatonin, night, hours, quality, modafinil, wake, asleep, exercise\n",
      "\n",
      "Topic  6\n",
      "nan, gut, bacteria, microbiome, disease, alzheimer, probiotics, microbes, parkinson, link\n",
      "\n",
      "Topic  7\n",
      "caffeine, theanine, coffee, tea, effects, drink, pills, does, green, drinking\n",
      "\n",
      "Topic  8\n",
      "brain, gut, exercise, study, health, fog, does, human, cells, damage\n",
      "\n",
      "Topic  9\n",
      "magnesium, vitamin, depression, anxiety, deficiency, supplementation, treatment, threonate, taking, citrate\n",
      "components10None\n",
      "\n"
     ]
    }
   ],
   "source": [
    "for number in [1,2,3,4,5,6,7,8,9,10]:\n",
    "    nmf = NMF(number)\n",
    "    nmf.fit_transform(df_noo_clean_ti)\n",
    "    print('components' + str(number) + str(display_topics(nmf, ti_feature_names, 10)) + '\\n')"
   ]
  },
  {
   "cell_type": "markdown",
   "id": "a32d337c-3b49-4461-94ce-11f1d93fb3a0",
   "metadata": {},
   "source": [
    "Finally I tried LDA. The topics were super different, and really interesting. I'd like to explore this more, but the topics for NMF were more obvious and easier to work with. "
   ]
  },
  {
   "cell_type": "code",
   "execution_count": 32,
   "id": "501cf52c-3d65-488b-b027-ad2650a1241a",
   "metadata": {
    "tags": []
   },
   "outputs": [
    {
     "name": "stdout",
     "output_type": "stream",
     "text": [
      "\n",
      "Topic  0\n",
      "brain, nootropics, effects, like, just, cognitive, sleep, caffeine, memory, day\n",
      "components1None\n",
      "\n",
      "\n",
      "Topic  0\n",
      "nootropics, brain, effects, like, just, sleep, caffeine, day, anxiety, cognitive\n",
      "\n",
      "Topic  1\n",
      "memory, hippocampal, alzheimer, improves, adult, enhances, adults, cognitive, brain, mice\n",
      "components2None\n",
      "\n",
      "\n",
      "Topic  0\n",
      "nan, induced, mice, hippocampal, adult, model, enhances, systematic, expression, neurotrophic\n",
      "\n",
      "Topic  1\n",
      "brain, alzheimer, pubmed, disease, cognitive, nih, mice, ncbi, nlm, microdosing\n",
      "\n",
      "Topic  2\n",
      "nootropics, like, brain, effects, just, sleep, caffeine, day, feel, anxiety\n",
      "components3None\n",
      "\n",
      "\n",
      "Topic  0\n",
      "nootropics, like, brain, effects, just, sleep, caffeine, day, nootropic, anxiety\n",
      "\n",
      "Topic  1\n",
      "pubmed, ncbi, nlm, gov, nih, systematic, brain, alzheimer, pmc, aging\n",
      "\n",
      "Topic  2\n",
      "brain, memory, induced, cognitive, improves, mice, cortex, alzheimer, disease, function\n",
      "\n",
      "Topic  3\n",
      "nan, controlled, hippocampal, neurogenesis, randomized, adult, memory, trial, gut, mice\n",
      "components4None\n",
      "\n",
      "\n",
      "Topic  0\n",
      "brain, cognitive, memory, improves, alzheimer, study, controlled, adults, function, healthy\n",
      "\n",
      "Topic  1\n",
      "infographic, pollution, air, rogan, joe, predicts, structures, valley, silicon, binaural\n",
      "\n",
      "Topic  2\n",
      "survey, asapscience, ketone, maintains, yorker, introduction, brainer, animated, tdcs, ot\n",
      "\n",
      "Topic  3\n",
      "nootropics, like, effects, brain, just, caffeine, day, sleep, anxiety, feel\n",
      "\n",
      "Topic  4\n",
      "blueberry, nyt, harvard, fear, withania, somnifera, labdoor, extinction, muscle, periodic\n",
      "components5None\n",
      "\n"
     ]
    }
   ],
   "source": [
    "for number in [1,2,3,4,5]:\n",
    "    lda = LatentDirichletAllocation(number)\n",
    "    lda.fit_transform(df_noo_clean_ti)\n",
    "    print('components' + str(number) + str(display_topics(lda, ti_feature_names, 10)) + '\\n')\n",
    "\n"
   ]
  },
  {
   "cell_type": "code",
   "execution_count": 33,
   "id": "68630634-db94-4bd0-80b4-dfdc81329d20",
   "metadata": {
    "tags": []
   },
   "outputs": [
    {
     "data": {
      "text/html": [
       "<div>\n",
       "<style scoped>\n",
       "    .dataframe tbody tr th:only-of-type {\n",
       "        vertical-align: middle;\n",
       "    }\n",
       "\n",
       "    .dataframe tbody tr th {\n",
       "        vertical-align: top;\n",
       "    }\n",
       "\n",
       "    .dataframe thead th {\n",
       "        text-align: right;\n",
       "    }\n",
       "</style>\n",
       "<table border=\"1\" class=\"dataframe\">\n",
       "  <thead>\n",
       "    <tr style=\"text-align: right;\">\n",
       "      <th></th>\n",
       "      <th>0</th>\n",
       "      <th>1</th>\n",
       "      <th>2</th>\n",
       "    </tr>\n",
       "    <tr>\n",
       "      <th>body</th>\n",
       "      <th></th>\n",
       "      <th></th>\n",
       "      <th></th>\n",
       "    </tr>\n",
       "  </thead>\n",
       "  <tbody>\n",
       "    <tr>\n",
       "      <th>my experience with    agmatine sulfate over the last few days i have been in a state of mild moderate depression and anxiety for the past couple of weeks and not much has enabled me to think and function normally apart from agmatine literally within an hour of taking it i felt better than i have in many weeks  one of the most prominent effects i immediately noticed was the clarity of mind i did not have to think about anything in particular my mind just kind of rested if i was not trying to focus on something to me this effect was fucking incredible especially because the response i felt was also associated with a feeling of wellbeing my adhedonia was almost immediately reduced when the effects kicked in  i would say this specific effect is particularly effective if your mental distress was caused by something specific which it was in my case although it for sure works in other circumstances as well just based on anecdotes i have read  it allowed me quiet my annoyingly loud mind and just enjoy the moment in my limited knowledge of physiology i would assume that this subjective mind clarity effect is a result of the nmda antagonism that agmatine is implicated in  another effect i felt was the calm body effect i assume this is caused by the no modulation and beta endorphin release another antidepressant mode of action  i would say if you are struggling with anxiety also look into propranolol i definitely think the mind body feedback loop for anxiety is massively powerful and not something to gloss over when trying to understand your anxiety and in my opinion the anti anxiety effects of agmantine are partially due to this bp heart rate effect  i take about g of agmatine sulfate on an empty stomach or with carbs but definitely not with protein and i start to notice effects within  minutes also drinking coffee after you take agmatine is an experience on its own  i rambled a lot but needless to say i will be continuing to take this supplement and analyzing my response just because its been so goddamn effective</th>\n",
       "      <td>0.032636</td>\n",
       "      <td>0.032629</td>\n",
       "      <td>0.934736</td>\n",
       "    </tr>\n",
       "    <tr>\n",
       "      <th>studies which show gamma band brainwave neurofeedback increase intelligence clear the brain of alzheimer  plaques and numerous other benefits  study article dates                  gamma neurofeedback increases intelligence     pubmed ncbi nlm nih gov      neural synchronization in the gamma band has been associated with feature binding and intelligence using neurofeedback we aimed at changing the power of the gamma band and investigated whether these changes would influence behavioral measures of feature binding and intelligence the results show that people are indeed able to alter the power in the gamma band if provided with neurofeedback moreover the increase of gamma band power was related to a decrease of binding costs and an increase in intelligence suggesting that the control of feature binding and intelligence share a common underlying mechanism                               gamma brainwaves can clear beta amyloid plaques seen in alzheimer  patients and improve memory     nia nih gov news harnessing gamma brain waves clear alzheimers proteins   could stimulate gamma waves which not only reduced levels of beta amyloid plaques in the brain a hallmark of the alzheimer  but boosted the clearance of harmful debris by microglia cells this finding published online december  in nature      nia nih gov news noninvasive brain wave treatment reduces alzheimers pathology improves memory mice   news mit edu   brain wave stimulation improve alzheimers                                  buddhist monks with    hours meditation experience show extremely high amplitude gamma waves during meditation     pnas org content        long term meditators self induce high amplitude gamma synchrony during mental practice                                        brief bursts of high amplitude gamma band activity seen before an aha  eureka  or epiphany moment     pubmed ncbi nlm nih gov      posterior beta and anterior gamma oscillations predict cognitive insight abstract  pioneering neuroimaging studies on insight have revealed neural correlates of the emotional  aha  component of the insight process but neural substrates of the cognitive compo nent such as problem restructuring a key to transformative reasoning  remain a mystery here multivariate electroenceph alogram signals were recorded from human participants while they solved verbal puzzles that could create a small scale expe rience of cognitive insight individuals responded as soon as they reached a solution and provided a rating of subjective insight for unsolved puzzles hints were provided after  to  sec spatio temporal signatures of brain oscillations were analyzed using morlet wavelet transform followed by explor atory parallel factor analysis a consistent reduction in beta power    hz was found over the parieto occipital and centro temporal electrode regions on all four conditions a correct vs incorrect solutions  b solutions without vs with external hint  c successful vs unsuccessful utilization of the external hint and d self reported high vs low insight gamma band    hz power was increased in right fronto central and frontal electrode regions for conditions a and c  the effects occurred several up to  seconds before the behavioral response our findings indicate that insight is represented by distinct spectral spatial and temporal patterns of neural activity related to presolution cognitive processes that are intrinsic to the problem itself but not exclusively to one  subjective assessment of insight                                        brainworldmagazine  aha moment science behind creative insight  gamma activity indicates a constellation of neurons binding together for the first time in the brain to create a new neural network pathway this is the creation of a new idea immediately following that gamma spike the new idea pops into our consciousness which we identify as the aha moment</th>\n",
       "      <td>0.031230</td>\n",
       "      <td>0.031107</td>\n",
       "      <td>0.937663</td>\n",
       "    </tr>\n",
       "    <tr>\n",
       "      <th>striatal dopamine synthesis capacity reflects smartphone social activity     study   pubmed ncbi nlm nih gov         gt striatal dopamine and smartphone behavior have both been linked with behavioral variability here we leverage day to day logs of natural unconstrained smartphone behavior and establish a correlation between a measure of smartphone social activity previously linked with behavioral variability and a measure of striatal dopamine synthesis capacity using   f  dopa pet in n    healthy adult humans  specifically we find that a higher proportion of social app interactions correlates with lower dopamine synthesis capacity in the bilateral putamen  permutation tests and penalized regressions provide evidence that this link between dopamine synthesis capacity and social versus non social smartphone interactions is specific these observations provide a key empirical grounding for current speculations about dopamine  role in digital social behavior</th>\n",
       "      <td>0.048744</td>\n",
       "      <td>0.048223</td>\n",
       "      <td>0.903033</td>\n",
       "    </tr>\n",
       "    <tr>\n",
       "      <th>strange taurine experience improved sense of smell and taste i took taurine for the first time about an hour ago and right now i am smelling things i have never smelled before  but i am in my own house around all the same things i also tasted my cbd tincture the same one i have every night and it is taste is wayyy stronger  i normally do not have a good sense of smell or taste so this is wild why would this be happening i definitely do not think it is placebo as my nose is actually picking up on things it has not before the difference is not subtle</th>\n",
       "      <td>0.054085</td>\n",
       "      <td>0.054082</td>\n",
       "      <td>0.891833</td>\n",
       "    </tr>\n",
       "    <tr>\n",
       "      <th>vit d with magnesium the doc prescribed me vit d as i have low amounts       i take it around  pm but i also learned on the internet that i need to take magnesium as well in order to make vit d more effective  which one should i take before vit d or  and should i take  not prescribed everyday that i take d prescribed</th>\n",
       "      <td>0.088062</td>\n",
       "      <td>0.088065</td>\n",
       "      <td>0.823873</td>\n",
       "    </tr>\n",
       "    <tr>\n",
       "      <th>getting great results from my multivitamins for mood brain fog and libido but i am not sure what does the trick currently taking life extension two per day    amazon  life extension potency multi vitamin supplement dp b kcz cdw ref sr   dchild  amp keywords lef   two per day amp qid      amp sr    and actually taking only one capsule every two day so  of the dose  and i am feeling much better better libido less brain fog better mood and drive  the thing is i have taken other methylated b complex before and never actually felt a real difference since i was already taking methylated b  p p methyl folate zinc vitamin d vitamin k magnesium i have to rule these out i eat plenty of seaweed so it is not iodine  right off the bat i was thinking it is the high dose b  thiamine hcl  but not sure i am going to try subulthiamine soon to see if i get the same results could this be selenium manganese molybdenum chromium</th>\n",
       "      <td>0.039886</td>\n",
       "      <td>0.039872</td>\n",
       "      <td>0.920242</td>\n",
       "    </tr>\n",
       "    <tr>\n",
       "      <th>how to best increase nad levels</th>\n",
       "      <td>0.116627</td>\n",
       "      <td>0.380232</td>\n",
       "      <td>0.503142</td>\n",
       "    </tr>\n",
       "    <tr>\n",
       "      <th>oral berberine improves brain dopa dopamine levels to ameliorate parkinson  disease by regulating gut microbiota nature  feb</th>\n",
       "      <td>0.071210</td>\n",
       "      <td>0.071197</td>\n",
       "      <td>0.857592</td>\n",
       "    </tr>\n",
       "    <tr>\n",
       "      <th>noopept protects the brain from neuroinflammatory stress and inflammation induced cell death via induction of bdnf research study    in vivo animal models</th>\n",
       "      <td>0.068967</td>\n",
       "      <td>0.068923</td>\n",
       "      <td>0.862110</td>\n",
       "    </tr>\n",
       "    <tr>\n",
       "      <th>curcumin induces mitochondrial biogenesis by increasing camp levels via pde a inhibition in skeletal muscle feb</th>\n",
       "      <td>0.076846</td>\n",
       "      <td>0.076861</td>\n",
       "      <td>0.846293</td>\n",
       "    </tr>\n",
       "    <tr>\n",
       "      <th>anyone feeling more fatigued and dazed on days they cycle off my regimen only consists of caffeine and phenylpiracetam caffeine roughly x a week or every rd day i use phenylpiracetam once a week so certainly no using a lot of nootropics but days when i do not supplement i have no energy or motivation in the morning my mental state is more clouded and lethargic almost like a sight headache creating some confusion i miss the clarity and drive i experience on my on days i eat a clean diet and get a good amount of sleep so not sure what i can do to improve myself</th>\n",
       "      <td>0.047415</td>\n",
       "      <td>0.047408</td>\n",
       "      <td>0.905178</td>\n",
       "    </tr>\n",
       "    <tr>\n",
       "      <th>why is there a severe lack of studies on the substance glucuronolactone which is put in nearly every energy drink and is a vital structural component of nearly all connective tissues as a person with a connective tissue disorder this substance  potential for treatment of such disorders very much interests me especially since energy drinks oddly work for me like  x better than adrafinil or phenylpiracetam does  also it already has studies   selfhacked  blog glucuronolactone  showing that it can protect and reduce inflammation within the liver and surprise surprise many connective tissue disorders negatively affect the liver</th>\n",
       "      <td>0.053719</td>\n",
       "      <td>0.053847</td>\n",
       "      <td>0.892435</td>\n",
       "    </tr>\n",
       "    <tr>\n",
       "      <th>lions mane x nootropics depot review effects i would give this a    review i got the lion  mane x extract from nootropics depot and have been using it for two months with a week in between not taking it for me to truly feel the effects of lions mane i typically have to take it for  days before i started to notice and feel like i did originally i am not sure why this is but when i was on my break it took  days to get the previous effects i have noticed a huge change in my personality when i take this continuously i have become a lot more social and generally i lot happier and healthy  yesterday i took a personality test because i was planning on writing an article about this i was originally intj a before lions mane and as of yesterday i switched to estj a which is a good thing because intj a is a pretty depressing group to be in whereas the other one seems a lot better i am going to here is a list of effects i have felt   less anxiety especially with public speaking not much to report here just a lot easier to talk to new people aswell as speaking in groups   lower libido i find this a good effect because i am trying to abstain from pornography and self made orgasms this has made it much easier than without taking lions mane    stronger i use this app called wim hof method and i track how many push ups i can do each day before i started taking lions mane i typically got roughly    push ups at one time now i can consistently get    not to say i do not get under i do it is just rare    i have not noticed any difference in my memory but i could just have not noticed it</th>\n",
       "      <td>0.038239</td>\n",
       "      <td>0.038234</td>\n",
       "      <td>0.923527</td>\n",
       "    </tr>\n",
       "    <tr>\n",
       "      <th>self blinding citizen science to explore psychedelic microdosing  szigeti et al</th>\n",
       "      <td>0.336333</td>\n",
       "      <td>0.084379</td>\n",
       "      <td>0.579289</td>\n",
       "    </tr>\n",
       "    <tr>\n",
       "      <th>nan</th>\n",
       "      <td>0.166721</td>\n",
       "      <td>0.666600</td>\n",
       "      <td>0.166680</td>\n",
       "    </tr>\n",
       "    <tr>\n",
       "      <th>any updates on sabroxy experience sabroxy has been available a couple weeks now there were some posts last week  does anyone have any additional information to report  does tolerance build  does it affect sleep  anyone feeling tired or irritated after using a couple days  or is everyone motivated and focused on productive work and not wasting time on reddit</th>\n",
       "      <td>0.059473</td>\n",
       "      <td>0.059469</td>\n",
       "      <td>0.881058</td>\n",
       "    </tr>\n",
       "    <tr>\n",
       "      <th>l theanine really works l theanine never did much for me until i started taking    at a time other users have reported success with this dose  it is very very subtle but there is a noticeable decrease in anxiety there are almost no other effects for me just a reduction in anxiety it feels a little similar to phenibut in that regard  so yeah for those who says it does not work up your dose</th>\n",
       "      <td>0.055908</td>\n",
       "      <td>0.055907</td>\n",
       "      <td>0.888186</td>\n",
       "    </tr>\n",
       "    <tr>\n",
       "      <th>amazing results with l tyrosine hello for the past few months i have been experimenting with l tyrosine i suspected some sort of dopamine deficiency and caffeine only worked somewhat so i tried it out i did not take regular doses the longest i took it daily was maybe  weeks then stopped for bit and repeat  the first few days i was not sure if it was placebo but i felt better then at the end of the first week the results were amazing and consistently stayed amazing after that  it is like i see the world in a whole new perspective it is how i imagine non depressed people see the world i got a more level headed and more big picture perspective my anxiety pretty much disappeared even the colours look prettier  i have found out that the perfect dose for me is to drink some caffeine combined with  l tyrosine capsules   mgx  and then go for a walk for an hour or so the walking is critical since apparently exercise helps l tyrosine kick in from my experience i bought my l tyrosine from amazon ca  just wanted to share</th>\n",
       "      <td>0.039745</td>\n",
       "      <td>0.039738</td>\n",
       "      <td>0.920517</td>\n",
       "    </tr>\n",
       "    <tr>\n",
       "      <th>so does excitotoxicity contribute to a loss in iq or can you regain those neurons considering how many substances we all put into our bodies i was thinking about if things like excess glutamate or other transmitters are leaving our brain cells worse off than if we were to just perform at baseline just a thought</th>\n",
       "      <td>0.058978</td>\n",
       "      <td>0.058972</td>\n",
       "      <td>0.882050</td>\n",
       "    </tr>\n",
       "    <tr>\n",
       "      <th>a supplement with similar effects of light alcohol i am an entrepreneur creative and noticed that if i drink a small amount of wine or other alcohol while working i experience desirable benefits such as increased creativity limited resistance and a slight motivation to do the work that i have been avoiding  is there a supplement that you have found to provide similar benefits  my alcohol tolerance is low  i do not want to drink frequently</th>\n",
       "      <td>0.056875</td>\n",
       "      <td>0.056818</td>\n",
       "      <td>0.886307</td>\n",
       "    </tr>\n",
       "  </tbody>\n",
       "</table>\n",
       "</div>"
      ],
      "text/plain": [
       "                                                           0         1  \\\n",
       "body                                                                     \n",
       "my experience with    agmatine sulfate over the...  0.032636  0.032629   \n",
       "studies which show gamma band brainwave neurofe...  0.031230  0.031107   \n",
       "striatal dopamine synthesis capacity reflects s...  0.048744  0.048223   \n",
       "strange taurine experience improved sense of sm...  0.054085  0.054082   \n",
       "vit d with magnesium the doc prescribed me vit ...  0.088062  0.088065   \n",
       "getting great results from my multivitamins for...  0.039886  0.039872   \n",
       "how to best increase nad levels                     0.116627  0.380232   \n",
       "oral berberine improves brain dopa dopamine lev...  0.071210  0.071197   \n",
       "noopept protects the brain from neuroinflammato...  0.068967  0.068923   \n",
       "curcumin induces mitochondrial biogenesis by in...  0.076846  0.076861   \n",
       "anyone feeling more fatigued and dazed on days ...  0.047415  0.047408   \n",
       "why is there a severe lack of studies on the su...  0.053719  0.053847   \n",
       "lions mane x nootropics depot review effects i ...  0.038239  0.038234   \n",
       " self blinding citizen science to explore psych...  0.336333  0.084379   \n",
       "nan                                                 0.166721  0.666600   \n",
       "any updates on sabroxy experience sabroxy has b...  0.059473  0.059469   \n",
       "l theanine really works l theanine never did mu...  0.055908  0.055907   \n",
       "amazing results with l tyrosine hello for the p...  0.039745  0.039738   \n",
       "so does excitotoxicity contribute to a loss in ...  0.058978  0.058972   \n",
       "a supplement with similar effects of light alco...  0.056875  0.056818   \n",
       "\n",
       "                                                           2  \n",
       "body                                                          \n",
       "my experience with    agmatine sulfate over the...  0.934736  \n",
       "studies which show gamma band brainwave neurofe...  0.937663  \n",
       "striatal dopamine synthesis capacity reflects s...  0.903033  \n",
       "strange taurine experience improved sense of sm...  0.891833  \n",
       "vit d with magnesium the doc prescribed me vit ...  0.823873  \n",
       "getting great results from my multivitamins for...  0.920242  \n",
       "how to best increase nad levels                     0.503142  \n",
       "oral berberine improves brain dopa dopamine lev...  0.857592  \n",
       "noopept protects the brain from neuroinflammato...  0.862110  \n",
       "curcumin induces mitochondrial biogenesis by in...  0.846293  \n",
       "anyone feeling more fatigued and dazed on days ...  0.905178  \n",
       "why is there a severe lack of studies on the su...  0.892435  \n",
       "lions mane x nootropics depot review effects i ...  0.923527  \n",
       " self blinding citizen science to explore psych...  0.579289  \n",
       "nan                                                 0.166680  \n",
       "any updates on sabroxy experience sabroxy has b...  0.881058  \n",
       "l theanine really works l theanine never did mu...  0.888186  \n",
       "amazing results with l tyrosine hello for the p...  0.920517  \n",
       "so does excitotoxicity contribute to a loss in ...  0.882050  \n",
       "a supplement with similar effects of light alco...  0.886307  "
      ]
     },
     "execution_count": 33,
     "metadata": {},
     "output_type": "execute_result"
    }
   ],
   "source": [
    "lda= LatentDirichletAllocation(n_components=3)\n",
    "df_topic_lda = lda.fit_transform(df_noo_clean_ti)\n",
    "lda_topics_by_post = pd.DataFrame(df_topic_lda, index = df_noo_clean.body)\n",
    "lda_topics_by_post.head(20)"
   ]
  },
  {
   "cell_type": "code",
   "execution_count": 35,
   "id": "26520fc3-e0d1-4073-a985-f63dfcc36c13",
   "metadata": {},
   "outputs": [
    {
     "name": "stderr",
     "output_type": "stream",
     "text": [
      "/Applications/anaconda3/envs/metis/lib/python3.8/site-packages/sklearn/decomposition/_nmf.py:312: FutureWarning: The 'init' value, when 'init=None' and n_components is less than n_samples and n_features, will be changed from 'nndsvd' to 'nndsvda' in 1.1 (renaming of 0.26).\n",
      "  warnings.warn((\"The 'init' value, when 'init=None' and \"\n"
     ]
    },
    {
     "name": "stdout",
     "output_type": "stream",
     "text": [
      "\n",
      "Topic  0\n",
      "day, like, feel, just, sleep, caffeine, taking, anxiety, time, theanine, effects, did\n",
      "\n",
      "Topic  1\n",
      "brain, cognitive, memory, study, pubmed, ncbi, nih, nlm, gov, effects, function, dopamine\n",
      "\n",
      "Topic  2\n",
      "nootropics, nootropic, best, people, use, new, drugs, stack, guys, reddit, know, guide\n"
     ]
    }
   ],
   "source": [
    "nmf_model = NMF(3)\n",
    "df_tfidf_topic = nmf_model.fit_transform(df_noo_clean_ti)\n",
    "comp_list = []\n",
    "for i in range(3):\n",
    "    comp_list.append('component_'+str(i))\n",
    "topic_word = pd.DataFrame(nmf_model.components_.round(3),\n",
    "             index = comp_list,\n",
    "             columns = ti_feature_names)\n",
    "display_topics(nmf_model, ti_feature_names, 12)\n",
    "word_topic_matrix_df = pd.DataFrame(nmf_model.components_, columns=ti_feature_names).T.add_prefix('topic_')\n",
    "word_topic_matrix_df['body'] = df_noo_clean['body']"
   ]
  },
  {
   "cell_type": "code",
   "execution_count": 36,
   "id": "84eb18f1-2a29-4fa3-83a5-518c2ddb9308",
   "metadata": {
    "tags": []
   },
   "outputs": [
    {
     "data": {
      "text/html": [
       "<div>\n",
       "<style scoped>\n",
       "    .dataframe tbody tr th:only-of-type {\n",
       "        vertical-align: middle;\n",
       "    }\n",
       "\n",
       "    .dataframe tbody tr th {\n",
       "        vertical-align: top;\n",
       "    }\n",
       "\n",
       "    .dataframe thead th {\n",
       "        text-align: right;\n",
       "    }\n",
       "</style>\n",
       "<table border=\"1\" class=\"dataframe\">\n",
       "  <thead>\n",
       "    <tr style=\"text-align: right;\">\n",
       "      <th></th>\n",
       "      <th>experiences</th>\n",
       "      <th>physiology</th>\n",
       "      <th>advice</th>\n",
       "      <th>main_topic</th>\n",
       "    </tr>\n",
       "    <tr>\n",
       "      <th>body</th>\n",
       "      <th></th>\n",
       "      <th></th>\n",
       "      <th></th>\n",
       "      <th></th>\n",
       "    </tr>\n",
       "  </thead>\n",
       "  <tbody>\n",
       "    <tr>\n",
       "      <th>my experience with    agmatine sulfate over the last few days i have been in a state of mild moderate depression and anxiety for the past couple of weeks and not much has enabled me to think and function normally apart from agmatine literally within an hour of taking it i felt better than i have in many weeks  one of the most prominent effects i immediately noticed was the clarity of mind i did not have to think about anything in particular my mind just kind of rested if i was not trying to focus on something to me this effect was fucking incredible especially because the response i felt was also associated with a feeling of wellbeing my adhedonia was almost immediately reduced when the effects kicked in  i would say this specific effect is particularly effective if your mental distress was caused by something specific which it was in my case although it for sure works in other circumstances as well just based on anecdotes i have read  it allowed me quiet my annoyingly loud mind and just enjoy the moment in my limited knowledge of physiology i would assume that this subjective mind clarity effect is a result of the nmda antagonism that agmatine is implicated in  another effect i felt was the calm body effect i assume this is caused by the no modulation and beta endorphin release another antidepressant mode of action  i would say if you are struggling with anxiety also look into propranolol i definitely think the mind body feedback loop for anxiety is massively powerful and not something to gloss over when trying to understand your anxiety and in my opinion the anti anxiety effects of agmantine are partially due to this bp heart rate effect  i take about g of agmatine sulfate on an empty stomach or with carbs but definitely not with protein and i start to notice effects within  minutes also drinking coffee after you take agmatine is an experience on its own  i rambled a lot but needless to say i will be continuing to take this supplement and analyzing my response just because its been so goddamn effective</th>\n",
       "      <td>0.082390</td>\n",
       "      <td>0.016319</td>\n",
       "      <td>0.000000</td>\n",
       "      <td>experiences</td>\n",
       "    </tr>\n",
       "    <tr>\n",
       "      <th>studies which show gamma band brainwave neurofeedback increase intelligence clear the brain of alzheimer  plaques and numerous other benefits  study article dates                  gamma neurofeedback increases intelligence     pubmed ncbi nlm nih gov      neural synchronization in the gamma band has been associated with feature binding and intelligence using neurofeedback we aimed at changing the power of the gamma band and investigated whether these changes would influence behavioral measures of feature binding and intelligence the results show that people are indeed able to alter the power in the gamma band if provided with neurofeedback moreover the increase of gamma band power was related to a decrease of binding costs and an increase in intelligence suggesting that the control of feature binding and intelligence share a common underlying mechanism                               gamma brainwaves can clear beta amyloid plaques seen in alzheimer  patients and improve memory     nia nih gov news harnessing gamma brain waves clear alzheimers proteins   could stimulate gamma waves which not only reduced levels of beta amyloid plaques in the brain a hallmark of the alzheimer  but boosted the clearance of harmful debris by microglia cells this finding published online december  in nature      nia nih gov news noninvasive brain wave treatment reduces alzheimers pathology improves memory mice   news mit edu   brain wave stimulation improve alzheimers                                  buddhist monks with    hours meditation experience show extremely high amplitude gamma waves during meditation     pnas org content        long term meditators self induce high amplitude gamma synchrony during mental practice                                        brief bursts of high amplitude gamma band activity seen before an aha  eureka  or epiphany moment     pubmed ncbi nlm nih gov      posterior beta and anterior gamma oscillations predict cognitive insight abstract  pioneering neuroimaging studies on insight have revealed neural correlates of the emotional  aha  component of the insight process but neural substrates of the cognitive compo nent such as problem restructuring a key to transformative reasoning  remain a mystery here multivariate electroenceph alogram signals were recorded from human participants while they solved verbal puzzles that could create a small scale expe rience of cognitive insight individuals responded as soon as they reached a solution and provided a rating of subjective insight for unsolved puzzles hints were provided after  to  sec spatio temporal signatures of brain oscillations were analyzed using morlet wavelet transform followed by explor atory parallel factor analysis a consistent reduction in beta power    hz was found over the parieto occipital and centro temporal electrode regions on all four conditions a correct vs incorrect solutions  b solutions without vs with external hint  c successful vs unsuccessful utilization of the external hint and d self reported high vs low insight gamma band    hz power was increased in right fronto central and frontal electrode regions for conditions a and c  the effects occurred several up to  seconds before the behavioral response our findings indicate that insight is represented by distinct spectral spatial and temporal patterns of neural activity related to presolution cognitive processes that are intrinsic to the problem itself but not exclusively to one  subjective assessment of insight                                        brainworldmagazine  aha moment science behind creative insight  gamma activity indicates a constellation of neurons binding together for the first time in the brain to create a new neural network pathway this is the creation of a new idea immediately following that gamma spike the new idea pops into our consciousness which we identify as the aha moment</th>\n",
       "      <td>0.002264</td>\n",
       "      <td>0.085372</td>\n",
       "      <td>0.007184</td>\n",
       "      <td>physiology</td>\n",
       "    </tr>\n",
       "    <tr>\n",
       "      <th>striatal dopamine synthesis capacity reflects smartphone social activity     study   pubmed ncbi nlm nih gov         gt striatal dopamine and smartphone behavior have both been linked with behavioral variability here we leverage day to day logs of natural unconstrained smartphone behavior and establish a correlation between a measure of smartphone social activity previously linked with behavioral variability and a measure of striatal dopamine synthesis capacity using   f  dopa pet in n    healthy adult humans  specifically we find that a higher proportion of social app interactions correlates with lower dopamine synthesis capacity in the bilateral putamen  permutation tests and penalized regressions provide evidence that this link between dopamine synthesis capacity and social versus non social smartphone interactions is specific these observations provide a key empirical grounding for current speculations about dopamine  role in digital social behavior</th>\n",
       "      <td>0.005124</td>\n",
       "      <td>0.058155</td>\n",
       "      <td>0.000000</td>\n",
       "      <td>physiology</td>\n",
       "    </tr>\n",
       "    <tr>\n",
       "      <th>strange taurine experience improved sense of smell and taste i took taurine for the first time about an hour ago and right now i am smelling things i have never smelled before  but i am in my own house around all the same things i also tasted my cbd tincture the same one i have every night and it is taste is wayyy stronger  i normally do not have a good sense of smell or taste so this is wild why would this be happening i definitely do not think it is placebo as my nose is actually picking up on things it has not before the difference is not subtle</th>\n",
       "      <td>0.040577</td>\n",
       "      <td>0.000000</td>\n",
       "      <td>0.000000</td>\n",
       "      <td>experiences</td>\n",
       "    </tr>\n",
       "    <tr>\n",
       "      <th>vit d with magnesium the doc prescribed me vit d as i have low amounts       i take it around  pm but i also learned on the internet that i need to take magnesium as well in order to make vit d more effective  which one should i take before vit d or  and should i take  not prescribed everyday that i take d prescribed</th>\n",
       "      <td>0.015628</td>\n",
       "      <td>0.003130</td>\n",
       "      <td>0.001783</td>\n",
       "      <td>experiences</td>\n",
       "    </tr>\n",
       "  </tbody>\n",
       "</table>\n",
       "</div>"
      ],
      "text/plain": [
       "                                                    experiences  physiology  \\\n",
       "body                                                                          \n",
       "my experience with    agmatine sulfate over the...     0.082390    0.016319   \n",
       "studies which show gamma band brainwave neurofe...     0.002264    0.085372   \n",
       "striatal dopamine synthesis capacity reflects s...     0.005124    0.058155   \n",
       "strange taurine experience improved sense of sm...     0.040577    0.000000   \n",
       "vit d with magnesium the doc prescribed me vit ...     0.015628    0.003130   \n",
       "\n",
       "                                                      advice   main_topic  \n",
       "body                                                                       \n",
       "my experience with    agmatine sulfate over the...  0.000000  experiences  \n",
       "studies which show gamma band brainwave neurofe...  0.007184   physiology  \n",
       "striatal dopamine synthesis capacity reflects s...  0.000000   physiology  \n",
       "strange taurine experience improved sense of sm...  0.000000  experiences  \n",
       "vit d with magnesium the doc prescribed me vit ...  0.001783  experiences  "
      ]
     },
     "execution_count": 36,
     "metadata": {},
     "output_type": "execute_result"
    }
   ],
   "source": [
    "topics_by_post = pd.DataFrame(df_tfidf_topic, columns = ['experiences', 'physiology', 'advice'])\n",
    "topics_by_post['main_topic'] = topics_by_post.idxmax(axis=1)\n",
    "topics_by_post.index = df_noo_clean['body']\n",
    "topics_by_post[(topics_by_post['main_topic']== 'experiences')].head()\n",
    "topics_by_post.head()"
   ]
  },
  {
   "cell_type": "markdown",
   "id": "8d018761-afb3-41cd-8755-00e16ae9731e",
   "metadata": {},
   "source": [
    "# Clustering"
   ]
  },
  {
   "cell_type": "markdown",
   "id": "d80e9cee-f333-4480-848c-9d9fe6936bb1",
   "metadata": {},
   "source": [
    "## T-SNE\n",
    "Interesting division of the topic spaces, however does not provide clustering assignments"
   ]
  },
  {
   "cell_type": "code",
   "execution_count": 37,
   "id": "69062223-4f1f-45ac-9173-0ef28caf6b6e",
   "metadata": {
    "tags": []
   },
   "outputs": [
    {
     "name": "stderr",
     "output_type": "stream",
     "text": [
      "/Applications/anaconda3/envs/metis/lib/python3.8/site-packages/sklearn/manifold/_t_sne.py:691: FutureWarning: 'square_distances' has been introduced in 0.24 to help phase out legacy squaring behavior. The 'legacy' setting will be removed in 1.1 (renaming of 0.26), and the default setting will be changed to True. In 1.3, 'square_distances' will be removed altogether, and distances will be squared by default. Set 'square_distances'=True to silence this warning.\n",
      "  warnings.warn(\n"
     ]
    },
    {
     "data": {
      "image/png": "[encoded data removed]",
      "text/plain": [
       "<Figure size 432x288 with 1 Axes>"
      ]
     },
     "metadata": {
      "needs_background": "light"
     },
     "output_type": "display_data"
    }
   ],
   "source": [
    "ss = StandardScaler()\n",
    "tsne_model = TSNE(n_components=2, random_state=22, metric = 'cosine')\n",
    "tsne_coords = tsne_model.fit_transform(ss.fit_transform(ss.fit_transform(topics_by_post[['experiences', 'physiology', 'advice']])))\n",
    "viz_df = pd.DataFrame(tsne_coords, columns = ['x', 'y'])\n",
    "viz_df.index = topics_by_post.index\n",
    "viz_df['main_topi'] = topics_by_post['main_topic']\n",
    "sns.scatterplot(data = viz_df, x='x', y='y', hue = 'main_topi')\n",
    "plt.savefig('tsne.png')"
   ]
  },
  {
   "cell_type": "markdown",
   "id": "b3494a85-c552-4891-af43-528b44fd5799",
   "metadata": {},
   "source": [
    "## K-Means\n",
    "This is a mess of a dataset, lol. "
   ]
  },
  {
   "cell_type": "code",
   "execution_count": 38,
   "id": "63b2861a-bcb9-46b7-8412-00e2013101e6",
   "metadata": {
    "tags": []
   },
   "outputs": [],
   "source": [
    "#First plot the dataset\n",
    "from sklearn.cluster import KMeans\n",
    "ss = StandardScaler()\n",
    "topics_by_post_scaled = ss.fit_transform(topics_by_post[['experiences', 'physiology', 'advice']])"
   ]
  },
  {
   "cell_type": "code",
   "execution_count": 39,
   "id": "988fa96b-a2b1-4cdd-8659-1c8624d066b7",
   "metadata": {},
   "outputs": [
    {
     "name": "stderr",
     "output_type": "stream",
     "text": [
      "<ipython-input-39-e3647a8877af>:12: MatplotlibDeprecationWarning: Adding an axes using the same arguments as a previous axes currently reuses the earlier instance.  In a future version, a new instance will always be created and returned.  Meanwhile, this warning can be suppressed, and the future behavior ensured, by passing a unique label to each axes instance.\n",
      "  fig.add_axes(ax)\n"
     ]
    },
    {
     "data": {
      "image/png": "[encoded data removed]",
      "text/plain": [
       "<Figure size 432x432 with 1 Axes>"
      ]
     },
     "metadata": {
      "needs_background": "light"
     },
     "output_type": "display_data"
    }
   ],
   "source": [
    "km = KMeans(n_clusters = 3, max_iter = 10000, random_state = 1)\n",
    "km_labels = km.fit_predict(topics_by_post_scaled)\n",
    "\n",
    "from mpl_toolkits.mplot3d import Axes3D\n",
    "\n",
    "x = topics_by_post_scaled[:, 0]\n",
    "y = topics_by_post_scaled[:, 1]\n",
    "z = topics_by_post_scaled[:, 2]\n",
    "\n",
    "fig = plt.figure(figsize=(6,6))\n",
    "ax = Axes3D(fig)\n",
    "fig.add_axes(ax)\n",
    "\n",
    "sc = ax.scatter(x, y, z, s=40, marker='o', alpha=.3, c=km_labels)\n"
   ]
  },
  {
   "cell_type": "markdown",
   "id": "df539353-a5fb-44fe-aa5e-15786b6297d0",
   "metadata": {},
   "source": [
    "Kmeans didn't do a great job with this. My data is super weird. I'm going to go back to the topic modeling and focus just on the 'experience' posts. "
   ]
  },
  {
   "cell_type": "code",
   "execution_count": 40,
   "id": "aebdcd66-ce82-4e89-ab3f-c5392203de12",
   "metadata": {
    "tags": []
   },
   "outputs": [
    {
     "name": "stderr",
     "output_type": "stream",
     "text": [
      "/Applications/anaconda3/envs/metis/lib/python3.8/site-packages/pandas/core/frame.py:4308: SettingWithCopyWarning: \n",
      "A value is trying to be set on a copy of a slice from a DataFrame\n",
      "\n",
      "See the caveats in the documentation: https://pandas.pydata.org/pandas-docs/stable/user_guide/indexing.html#returning-a-view-versus-a-copy\n",
      "  return super().drop(\n"
     ]
    },
    {
     "data": {
      "text/html": [
       "<div>\n",
       "<style scoped>\n",
       "    .dataframe tbody tr th:only-of-type {\n",
       "        vertical-align: middle;\n",
       "    }\n",
       "\n",
       "    .dataframe tbody tr th {\n",
       "        vertical-align: top;\n",
       "    }\n",
       "\n",
       "    .dataframe thead th {\n",
       "        text-align: right;\n",
       "    }\n",
       "</style>\n",
       "<table border=\"1\" class=\"dataframe\">\n",
       "  <thead>\n",
       "    <tr style=\"text-align: right;\">\n",
       "      <th></th>\n",
       "      <th>aa</th>\n",
       "      <th>aaaaaaaaa</th>\n",
       "      <th>aaad</th>\n",
       "      <th>aab</th>\n",
       "      <th>aac</th>\n",
       "      <th>aacb</th>\n",
       "      <th>aacrjournals</th>\n",
       "      <th>aacv</th>\n",
       "      <th>aadc</th>\n",
       "      <th>aafp</th>\n",
       "      <th>...</th>\n",
       "      <th>zutv</th>\n",
       "      <th>zv</th>\n",
       "      <th>zw</th>\n",
       "      <th>zwei</th>\n",
       "      <th>zxyq</th>\n",
       "      <th>zybrp</th>\n",
       "      <th>zyoq</th>\n",
       "      <th>zyprexa</th>\n",
       "      <th>zyrtec</th>\n",
       "      <th>zz</th>\n",
       "    </tr>\n",
       "    <tr>\n",
       "      <th>body</th>\n",
       "      <th></th>\n",
       "      <th></th>\n",
       "      <th></th>\n",
       "      <th></th>\n",
       "      <th></th>\n",
       "      <th></th>\n",
       "      <th></th>\n",
       "      <th></th>\n",
       "      <th></th>\n",
       "      <th></th>\n",
       "      <th></th>\n",
       "      <th></th>\n",
       "      <th></th>\n",
       "      <th></th>\n",
       "      <th></th>\n",
       "      <th></th>\n",
       "      <th></th>\n",
       "      <th></th>\n",
       "      <th></th>\n",
       "      <th></th>\n",
       "      <th></th>\n",
       "    </tr>\n",
       "  </thead>\n",
       "  <tbody>\n",
       "    <tr>\n",
       "      <th>my experience with    agmatine sulfate over the last few days i have been in a state of mild moderate depression and anxiety for the past couple of weeks and not much has enabled me to think and function normally apart from agmatine literally within an hour of taking it i felt better than i have in many weeks  one of the most prominent effects i immediately noticed was the clarity of mind i did not have to think about anything in particular my mind just kind of rested if i was not trying to focus on something to me this effect was fucking incredible especially because the response i felt was also associated with a feeling of wellbeing my adhedonia was almost immediately reduced when the effects kicked in  i would say this specific effect is particularly effective if your mental distress was caused by something specific which it was in my case although it for sure works in other circumstances as well just based on anecdotes i have read  it allowed me quiet my annoyingly loud mind and just enjoy the moment in my limited knowledge of physiology i would assume that this subjective mind clarity effect is a result of the nmda antagonism that agmatine is implicated in  another effect i felt was the calm body effect i assume this is caused by the no modulation and beta endorphin release another antidepressant mode of action  i would say if you are struggling with anxiety also look into propranolol i definitely think the mind body feedback loop for anxiety is massively powerful and not something to gloss over when trying to understand your anxiety and in my opinion the anti anxiety effects of agmantine are partially due to this bp heart rate effect  i take about g of agmatine sulfate on an empty stomach or with carbs but definitely not with protein and i start to notice effects within  minutes also drinking coffee after you take agmatine is an experience on its own  i rambled a lot but needless to say i will be continuing to take this supplement and analyzing my response just because its been so goddamn effective</th>\n",
       "      <td>0.0</td>\n",
       "      <td>0.0</td>\n",
       "      <td>0.0</td>\n",
       "      <td>0.0</td>\n",
       "      <td>0.0</td>\n",
       "      <td>0.0</td>\n",
       "      <td>0.0</td>\n",
       "      <td>0.0</td>\n",
       "      <td>0.0</td>\n",
       "      <td>0.0</td>\n",
       "      <td>...</td>\n",
       "      <td>0.0</td>\n",
       "      <td>0.0</td>\n",
       "      <td>0.0</td>\n",
       "      <td>0.0</td>\n",
       "      <td>0.0</td>\n",
       "      <td>0.0</td>\n",
       "      <td>0.0</td>\n",
       "      <td>0.0</td>\n",
       "      <td>0.0</td>\n",
       "      <td>0.0</td>\n",
       "    </tr>\n",
       "    <tr>\n",
       "      <th>strange taurine experience improved sense of smell and taste i took taurine for the first time about an hour ago and right now i am smelling things i have never smelled before  but i am in my own house around all the same things i also tasted my cbd tincture the same one i have every night and it is taste is wayyy stronger  i normally do not have a good sense of smell or taste so this is wild why would this be happening i definitely do not think it is placebo as my nose is actually picking up on things it has not before the difference is not subtle</th>\n",
       "      <td>0.0</td>\n",
       "      <td>0.0</td>\n",
       "      <td>0.0</td>\n",
       "      <td>0.0</td>\n",
       "      <td>0.0</td>\n",
       "      <td>0.0</td>\n",
       "      <td>0.0</td>\n",
       "      <td>0.0</td>\n",
       "      <td>0.0</td>\n",
       "      <td>0.0</td>\n",
       "      <td>...</td>\n",
       "      <td>0.0</td>\n",
       "      <td>0.0</td>\n",
       "      <td>0.0</td>\n",
       "      <td>0.0</td>\n",
       "      <td>0.0</td>\n",
       "      <td>0.0</td>\n",
       "      <td>0.0</td>\n",
       "      <td>0.0</td>\n",
       "      <td>0.0</td>\n",
       "      <td>0.0</td>\n",
       "    </tr>\n",
       "    <tr>\n",
       "      <th>vit d with magnesium the doc prescribed me vit d as i have low amounts       i take it around  pm but i also learned on the internet that i need to take magnesium as well in order to make vit d more effective  which one should i take before vit d or  and should i take  not prescribed everyday that i take d prescribed</th>\n",
       "      <td>0.0</td>\n",
       "      <td>0.0</td>\n",
       "      <td>0.0</td>\n",
       "      <td>0.0</td>\n",
       "      <td>0.0</td>\n",
       "      <td>0.0</td>\n",
       "      <td>0.0</td>\n",
       "      <td>0.0</td>\n",
       "      <td>0.0</td>\n",
       "      <td>0.0</td>\n",
       "      <td>...</td>\n",
       "      <td>0.0</td>\n",
       "      <td>0.0</td>\n",
       "      <td>0.0</td>\n",
       "      <td>0.0</td>\n",
       "      <td>0.0</td>\n",
       "      <td>0.0</td>\n",
       "      <td>0.0</td>\n",
       "      <td>0.0</td>\n",
       "      <td>0.0</td>\n",
       "      <td>0.0</td>\n",
       "    </tr>\n",
       "    <tr>\n",
       "      <th>getting great results from my multivitamins for mood brain fog and libido but i am not sure what does the trick currently taking life extension two per day    amazon  life extension potency multi vitamin supplement dp b kcz cdw ref sr   dchild  amp keywords lef   two per day amp qid      amp sr    and actually taking only one capsule every two day so  of the dose  and i am feeling much better better libido less brain fog better mood and drive  the thing is i have taken other methylated b complex before and never actually felt a real difference since i was already taking methylated b  p p methyl folate zinc vitamin d vitamin k magnesium i have to rule these out i eat plenty of seaweed so it is not iodine  right off the bat i was thinking it is the high dose b  thiamine hcl  but not sure i am going to try subulthiamine soon to see if i get the same results could this be selenium manganese molybdenum chromium</th>\n",
       "      <td>0.0</td>\n",
       "      <td>0.0</td>\n",
       "      <td>0.0</td>\n",
       "      <td>0.0</td>\n",
       "      <td>0.0</td>\n",
       "      <td>0.0</td>\n",
       "      <td>0.0</td>\n",
       "      <td>0.0</td>\n",
       "      <td>0.0</td>\n",
       "      <td>0.0</td>\n",
       "      <td>...</td>\n",
       "      <td>0.0</td>\n",
       "      <td>0.0</td>\n",
       "      <td>0.0</td>\n",
       "      <td>0.0</td>\n",
       "      <td>0.0</td>\n",
       "      <td>0.0</td>\n",
       "      <td>0.0</td>\n",
       "      <td>0.0</td>\n",
       "      <td>0.0</td>\n",
       "      <td>0.0</td>\n",
       "    </tr>\n",
       "    <tr>\n",
       "      <th>anyone feeling more fatigued and dazed on days they cycle off my regimen only consists of caffeine and phenylpiracetam caffeine roughly x a week or every rd day i use phenylpiracetam once a week so certainly no using a lot of nootropics but days when i do not supplement i have no energy or motivation in the morning my mental state is more clouded and lethargic almost like a sight headache creating some confusion i miss the clarity and drive i experience on my on days i eat a clean diet and get a good amount of sleep so not sure what i can do to improve myself</th>\n",
       "      <td>0.0</td>\n",
       "      <td>0.0</td>\n",
       "      <td>0.0</td>\n",
       "      <td>0.0</td>\n",
       "      <td>0.0</td>\n",
       "      <td>0.0</td>\n",
       "      <td>0.0</td>\n",
       "      <td>0.0</td>\n",
       "      <td>0.0</td>\n",
       "      <td>0.0</td>\n",
       "      <td>...</td>\n",
       "      <td>0.0</td>\n",
       "      <td>0.0</td>\n",
       "      <td>0.0</td>\n",
       "      <td>0.0</td>\n",
       "      <td>0.0</td>\n",
       "      <td>0.0</td>\n",
       "      <td>0.0</td>\n",
       "      <td>0.0</td>\n",
       "      <td>0.0</td>\n",
       "      <td>0.0</td>\n",
       "    </tr>\n",
       "  </tbody>\n",
       "</table>\n",
       "<p>5 rows × 25763 columns</p>\n",
       "</div>"
      ],
      "text/plain": [
       "                                                     aa  aaaaaaaaa  aaad  aab  \\\n",
       "body                                                                            \n",
       "my experience with    agmatine sulfate over the...  0.0        0.0   0.0  0.0   \n",
       "strange taurine experience improved sense of sm...  0.0        0.0   0.0  0.0   \n",
       "vit d with magnesium the doc prescribed me vit ...  0.0        0.0   0.0  0.0   \n",
       "getting great results from my multivitamins for...  0.0        0.0   0.0  0.0   \n",
       "anyone feeling more fatigued and dazed on days ...  0.0        0.0   0.0  0.0   \n",
       "\n",
       "                                                    aac  aacb  aacrjournals  \\\n",
       "body                                                                          \n",
       "my experience with    agmatine sulfate over the...  0.0   0.0           0.0   \n",
       "strange taurine experience improved sense of sm...  0.0   0.0           0.0   \n",
       "vit d with magnesium the doc prescribed me vit ...  0.0   0.0           0.0   \n",
       "getting great results from my multivitamins for...  0.0   0.0           0.0   \n",
       "anyone feeling more fatigued and dazed on days ...  0.0   0.0           0.0   \n",
       "\n",
       "                                                    aacv  aadc  aafp  ...  \\\n",
       "body                                                                  ...   \n",
       "my experience with    agmatine sulfate over the...   0.0   0.0   0.0  ...   \n",
       "strange taurine experience improved sense of sm...   0.0   0.0   0.0  ...   \n",
       "vit d with magnesium the doc prescribed me vit ...   0.0   0.0   0.0  ...   \n",
       "getting great results from my multivitamins for...   0.0   0.0   0.0  ...   \n",
       "anyone feeling more fatigued and dazed on days ...   0.0   0.0   0.0  ...   \n",
       "\n",
       "                                                    zutv   zv   zw  zwei  \\\n",
       "body                                                                       \n",
       "my experience with    agmatine sulfate over the...   0.0  0.0  0.0   0.0   \n",
       "strange taurine experience improved sense of sm...   0.0  0.0  0.0   0.0   \n",
       "vit d with magnesium the doc prescribed me vit ...   0.0  0.0  0.0   0.0   \n",
       "getting great results from my multivitamins for...   0.0  0.0  0.0   0.0   \n",
       "anyone feeling more fatigued and dazed on days ...   0.0  0.0  0.0   0.0   \n",
       "\n",
       "                                                    zxyq  zybrp  zyoq  \\\n",
       "body                                                                    \n",
       "my experience with    agmatine sulfate over the...   0.0    0.0   0.0   \n",
       "strange taurine experience improved sense of sm...   0.0    0.0   0.0   \n",
       "vit d with magnesium the doc prescribed me vit ...   0.0    0.0   0.0   \n",
       "getting great results from my multivitamins for...   0.0    0.0   0.0   \n",
       "anyone feeling more fatigued and dazed on days ...   0.0    0.0   0.0   \n",
       "\n",
       "                                                    zyprexa  zyrtec   zz  \n",
       "body                                                                      \n",
       "my experience with    agmatine sulfate over the...      0.0     0.0  0.0  \n",
       "strange taurine experience improved sense of sm...      0.0     0.0  0.0  \n",
       "vit d with magnesium the doc prescribed me vit ...      0.0     0.0  0.0  \n",
       "getting great results from my multivitamins for...      0.0     0.0  0.0  \n",
       "anyone feeling more fatigued and dazed on days ...      0.0     0.0  0.0  \n",
       "\n",
       "[5 rows x 25763 columns]"
      ]
     },
     "execution_count": 40,
     "metadata": {},
     "output_type": "execute_result"
    }
   ],
   "source": [
    "# Create an experiences only dataset\n",
    "df_noo_clean_ti.index = topics_by_post.index\n",
    "df_noo_clean_ti['main_topic'] = topics_by_post['main_topic']\n",
    "df_experiences = df_noo_clean_ti[df_noo_clean_ti.main_topic == 'experiences']\n",
    "\n",
    "# df_experiences.drop('major_topic', axis = 1, inplace = True)\n",
    "df_experiences.drop('main_topic', axis = 1, inplace = True)\n",
    "df_experiences.head()"
   ]
  },
  {
   "cell_type": "code",
   "execution_count": 41,
   "id": "e96709b1-1e73-4d92-8002-7d025132d34a",
   "metadata": {
    "tags": []
   },
   "outputs": [
    {
     "name": "stderr",
     "output_type": "stream",
     "text": [
      "/Applications/anaconda3/envs/metis/lib/python3.8/site-packages/sklearn/decomposition/_nmf.py:312: FutureWarning: The 'init' value, when 'init=None' and n_components is less than n_samples and n_features, will be changed from 'nndsvd' to 'nndsvda' in 1.1 (renaming of 0.26).\n",
      "  warnings.warn((\"The 'init' value, when 'init=None' and \"\n"
     ]
    },
    {
     "name": "stdout",
     "output_type": "stream",
     "text": [
      "\n",
      "Topic  0\n",
      "like, day, feel, just, time, anxiety, taking, did, effects, really\n",
      "\n",
      "Topic  1\n",
      "nan, modafinil, armodafinil, price, adrafinil, chart, adderall, updated, genotyping, comparison\n",
      "\n",
      "Topic  2\n",
      "caffeine, coffee, drink, pills, drinking, does, energy, day, makes, cup\n",
      "\n",
      "Topic  3\n",
      "sleep, night, hours, melatonin, deprivation, quality, wake, asleep, day, magnesium\n",
      "\n",
      "Topic  4\n",
      "theanine, tea, taking, effects, green, anxiety, combo, does, use, ashwagandha\n",
      "components5None\n",
      "\n"
     ]
    },
    {
     "name": "stderr",
     "output_type": "stream",
     "text": [
      "/Applications/anaconda3/envs/metis/lib/python3.8/site-packages/sklearn/decomposition/_nmf.py:312: FutureWarning: The 'init' value, when 'init=None' and n_components is less than n_samples and n_features, will be changed from 'nndsvd' to 'nndsvda' in 1.1 (renaming of 0.26).\n",
      "  warnings.warn((\"The 'init' value, when 'init=None' and \"\n"
     ]
    },
    {
     "name": "stdout",
     "output_type": "stream",
     "text": [
      "\n",
      "Topic  0\n",
      "like, just, feel, day, did, really, time, felt, life, work\n",
      "\n",
      "Topic  1\n",
      "nan, phenibut, soviet, fasoracetam, mixing, gaba, tolerance, pamphlet, memantine, baclofen\n",
      "\n",
      "Topic  2\n",
      "caffeine, coffee, drink, pills, drinking, energy, does, cup, makes, tolerance\n",
      "\n",
      "Topic  3\n",
      "sleep, melatonin, hours, night, deprivation, quality, wake, asleep, deep, bed\n",
      "\n",
      "Topic  4\n",
      "theanine, tea, green, taking, effects, combo, does, like, caffeine, use\n",
      "\n",
      "Topic  5\n",
      "magnesium, taking, vitamin, citrate, glycinate, supplements, supplement, threonate, fish, oil\n",
      "\n",
      "Topic  6\n",
      "effects, piracetam, long, term, noopept, taking, use, experience, daily, mane\n",
      "\n",
      "Topic  7\n",
      "anxiety, social, depression, phenibut, tried, gaba, does, oil, taking, help\n",
      "\n",
      "Topic  8\n",
      "modafinil, armodafinil, price, adrafinil, adderall, week, chart, does, taking, work\n",
      "\n",
      "Topic  9\n",
      "ashwagandha, long, thyroid, ksm, term, rhodiola, use, day, taken, taking\n",
      "components10None\n",
      "\n"
     ]
    },
    {
     "name": "stderr",
     "output_type": "stream",
     "text": [
      "/Applications/anaconda3/envs/metis/lib/python3.8/site-packages/sklearn/decomposition/_nmf.py:312: FutureWarning: The 'init' value, when 'init=None' and n_components is less than n_samples and n_features, will be changed from 'nndsvd' to 'nndsvda' in 1.1 (renaming of 0.26).\n",
      "  warnings.warn((\"The 'init' value, when 'init=None' and \"\n"
     ]
    },
    {
     "name": "stdout",
     "output_type": "stream",
     "text": [
      "\n",
      "Topic  0\n",
      "anxiety, social, depression, phenibut, tried, gaba, oil, help, taking, cbd\n",
      "\n",
      "Topic  1\n",
      "nan, amp, nbsp, sr, build, mood, amazon, rhodiola, qid, ref\n",
      "\n",
      "Topic  2\n",
      "caffeine, tolerance, pills, theacrine, energy, combo, bulk, affect, powder, nicotine\n",
      "\n",
      "Topic  3\n",
      "sleep, melatonin, deprivation, night, hours, quality, wake, asleep, deep, rem\n",
      "\n",
      "Topic  4\n",
      "theanine, tea, green, taking, effects, combo, does, try, dosage, like\n",
      "\n",
      "Topic  5\n",
      "magnesium, taking, vitamin, citrate, glycinate, supplements, threonate, supplement, vitamins, fish\n",
      "\n",
      "Topic  6\n",
      "effects, long, term, use, daily, experience, negative, mood, benefits, tolerance\n",
      "\n",
      "Topic  7\n",
      "modafinil, armodafinil, price, adrafinil, adderall, chart, does, week, taking, drug\n",
      "\n",
      "Topic  8\n",
      "coffee, drink, drinking, tea, does, cup, pills, oil, liver, cups\n",
      "\n",
      "Topic  9\n",
      "ashwagandha, thyroid, ksm, rhodiola, taking, taken, cortisol, extract, long, adaptogen\n",
      "\n",
      "Topic  10\n",
      "day, days, hours, work, week, night, felt, taking, took, morning\n",
      "\n",
      "Topic  11\n",
      "mane, lion, lions, taking, experience, mushroom, months, mushrooms, lot, recently\n",
      "\n",
      "Topic  12\n",
      "piracetam, noopept, choline, longecity, effect, racetams, dose, got, aniracetam, daily\n",
      "\n",
      "Topic  13\n",
      "feel, like, makes, feeling, energy, good, felt, feels, hours, really\n",
      "\n",
      "Topic  14\n",
      "just, like, did, really, time, know, things, people, life, think\n",
      "components15None\n",
      "\n"
     ]
    },
    {
     "name": "stderr",
     "output_type": "stream",
     "text": [
      "/Applications/anaconda3/envs/metis/lib/python3.8/site-packages/sklearn/decomposition/_nmf.py:312: FutureWarning: The 'init' value, when 'init=None' and n_components is less than n_samples and n_features, will be changed from 'nndsvd' to 'nndsvda' in 1.1 (renaming of 0.26).\n",
      "  warnings.warn((\"The 'init' value, when 'init=None' and \"\n"
     ]
    },
    {
     "name": "stdout",
     "output_type": "stream",
     "text": [
      "\n",
      "Topic  0\n",
      "just, like, did, time, really, know, things, think, life, got\n",
      "\n",
      "Topic  1\n",
      "nan, melatonin, know, wanted, dose, night, label, bottle, mcg, bones\n",
      "\n",
      "Topic  2\n",
      "caffeine, pills, tolerance, theacrine, combo, effects, energy, bulk, affect, alternative\n",
      "\n",
      "Topic  3\n",
      "sleep, melatonin, deprivation, night, hours, quality, wake, asleep, deep, rem\n",
      "\n",
      "Topic  4\n",
      "theanine, taking, effects, combo, does, try, dosage, like, use, stress\n",
      "\n",
      "Topic  5\n",
      "magnesium, taking, vitamin, citrate, glycinate, threonate, supplement, oxide, form, vitamins\n",
      "\n",
      "Topic  6\n",
      "long, term, use, effects, daily, time, cycle, short, benefits, negative\n",
      "\n",
      "Topic  7\n",
      "anxiety, social, depression, gaba, tried, taking, help, anti, tyrosine, started\n",
      "\n",
      "Topic  8\n",
      "coffee, drink, drinking, cup, pills, liver, makes, cirrhosis, cups, does\n",
      "\n",
      "Topic  9\n",
      "ashwagandha, thyroid, ksm, rhodiola, taking, taken, cortisol, extract, adaptogen, ht\n",
      "\n",
      "Topic  10\n",
      "day, days, hours, night, work, week, morning, felt, taking, bed\n",
      "\n",
      "Topic  11\n",
      "mane, lion, lions, taking, experience, mushroom, months, mushrooms, lot, recently\n",
      "\n",
      "Topic  12\n",
      "piracetam, noopept, choline, longecity, got, racetams, daily, say, taking, read\n",
      "\n",
      "Topic  13\n",
      "feel, like, makes, feeling, good, energy, hours, way, feels, really\n",
      "\n",
      "Topic  14\n",
      "modafinil, armodafinil, price, adrafinil, chart, taking, adderall, week, drug, taken\n",
      "\n",
      "Topic  15\n",
      "oil, fish, supplements, seed, dha, black, epa, depression, taking, cbd\n",
      "\n",
      "Topic  16\n",
      "effects, effect, mood, dose, amp, experience, semax, noopept, taking, tried\n",
      "\n",
      "Topic  17\n",
      "does, nicotine, work, lsd, microdosing, adderall, motivation, make, good, dopamine\n",
      "\n",
      "Topic  18\n",
      "phenibut, fasoracetam, gaba, soviet, tolerance, mixing, memantine, alcohol, adderall, phenylpiracetam\n",
      "\n",
      "Topic  19\n",
      "tea, green, drink, cup, matcha, mate, mood, pill, just, drinking\n",
      "components20None\n",
      "\n"
     ]
    },
    {
     "name": "stderr",
     "output_type": "stream",
     "text": [
      "/Applications/anaconda3/envs/metis/lib/python3.8/site-packages/sklearn/decomposition/_nmf.py:312: FutureWarning: The 'init' value, when 'init=None' and n_components is less than n_samples and n_features, will be changed from 'nndsvd' to 'nndsvda' in 1.1 (renaming of 0.26).\n",
      "  warnings.warn((\"The 'init' value, when 'init=None' and \"\n"
     ]
    },
    {
     "name": "stdout",
     "output_type": "stream",
     "text": [
      "\n",
      "Topic  0\n",
      "just, like, did, time, really, life, things, know, think, people\n",
      "\n",
      "Topic  1\n",
      "nan, adderall, bpc, charts, comparison, focus, mixing, rise, adhd, vs\n",
      "\n",
      "Topic  2\n",
      "caffeine, pills, tolerance, theacrine, combo, bulk, effects, alternative, powder, withdrawal\n",
      "\n",
      "Topic  3\n",
      "sleep, deprivation, hours, quality, night, wake, deep, asleep, rem, sleeping\n",
      "\n",
      "Topic  4\n",
      "theanine, effects, combo, try, dosage, like, use, calm, does, combination\n",
      "\n",
      "Topic  5\n",
      "magnesium, vitamin, citrate, glycinate, threonate, supplement, oxide, form, supplements, vitamins\n",
      "\n",
      "Topic  6\n",
      "long, term, effects, use, daily, time, cycle, negative, short, benefits\n",
      "\n",
      "Topic  7\n",
      "anxiety, social, depression, gaba, tried, anti, help, best, cbd, thing\n",
      "\n",
      "Topic  8\n",
      "coffee, drink, drinking, cup, pills, liver, makes, cirrhosis, cups, focus\n",
      "\n",
      "Topic  9\n",
      "ashwagandha, thyroid, ksm, rhodiola, taken, extract, cortisol, adaptogen, ht, powder\n",
      "\n",
      "Topic  10\n",
      "day, days, work, hours, night, week, felt, morning, hour, bed\n",
      "\n",
      "Topic  11\n",
      "mane, lion, lions, experience, mushroom, months, mushrooms, lot, ngf, cooked\n",
      "\n",
      "Topic  12\n",
      "piracetam, choline, longecity, got, say, effect, people, guy, read, mdma\n",
      "\n",
      "Topic  13\n",
      "feel, like, makes, feeling, hours, good, felt, way, anxious, feels\n",
      "\n",
      "Topic  14\n",
      "modafinil, armodafinil, price, adrafinil, adderall, chart, drug, taken, week, updated\n",
      "\n",
      "Topic  15\n",
      "oil, fish, supplements, seed, black, dha, epa, depression, cbd, brain\n",
      "\n",
      "Topic  16\n",
      "taking, started, week, days, weeks, months, nac, dose, bacopa, took\n",
      "\n",
      "Topic  17\n",
      "does, nicotine, using, tolerance, gum, work, use, stimulants, dopamine, affect\n",
      "\n",
      "Topic  18\n",
      "phenibut, fasoracetam, gaba, effects, soviet, tolerance, alcohol, dose, mixing, memantine\n",
      "\n",
      "Topic  19\n",
      "melatonin, night, dose, know, wake, asleep, wanted, morning, fall, mcg\n",
      "\n",
      "Topic  20\n",
      "tea, green, cup, matcha, drink, mate, pill, just, drinking, mood\n",
      "\n",
      "Topic  21\n",
      "noopept, aniracetam, effects, dose, powder, came, experience, used, experiment, took\n",
      "\n",
      "Topic  22\n",
      "semax, tianeptine, ceretropic, na, mcg, sulfate, amidate, acetyl, spray, tried\n",
      "\n",
      "Topic  23\n",
      "lsd, microdosing, experiment, trip, week, work, follow, make, experience, better\n",
      "\n",
      "Topic  24\n",
      "energy, mood, effect, amp, effects, mental, noticed, focus, supplements, low\n",
      "components25None\n",
      "\n"
     ]
    }
   ],
   "source": [
    "for number in [5, 10,15,20,25]:\n",
    "    nmf = NMF(number)\n",
    "    nmf.fit_transform(df_experiences)\n",
    "    print('components' + str(number) + str(display_topics(nmf, ti_feature_names, 10)) + '\\n')"
   ]
  },
  {
   "cell_type": "markdown",
   "id": "4fd8b132-35bd-438a-8130-1603a2f20ced",
   "metadata": {},
   "source": [
    "Now I am starting to see individual nootropics showing up in the topics, which is kind of cool. I'm going to go ahead with 20 components. "
   ]
  },
  {
   "cell_type": "code",
   "execution_count": 42,
   "id": "e068ebb0-df7f-4350-9178-5263c3e33c0b",
   "metadata": {},
   "outputs": [
    {
     "name": "stderr",
     "output_type": "stream",
     "text": [
      "/Applications/anaconda3/envs/metis/lib/python3.8/site-packages/sklearn/decomposition/_nmf.py:312: FutureWarning: The 'init' value, when 'init=None' and n_components is less than n_samples and n_features, will be changed from 'nndsvd' to 'nndsvda' in 1.1 (renaming of 0.26).\n",
      "  warnings.warn((\"The 'init' value, when 'init=None' and \"\n"
     ]
    }
   ],
   "source": [
    "nmf = NMF(20)\n",
    "df_experience_nmf = nmf.fit_transform(df_experiences)\n",
    "nmf_experiences_by_post = pd.DataFrame(df_experience_nmf, index = df_experiences.index)\n",
    "ss = StandardScaler()\n",
    "experiences_by_post_scaled = ss.fit_transform(nmf_experiences_by_post)\n"
   ]
  },
  {
   "cell_type": "code",
   "execution_count": 43,
   "id": "99b36caa-070f-40a1-b114-d11749f20319",
   "metadata": {},
   "outputs": [
    {
     "name": "stderr",
     "output_type": "stream",
     "text": [
      "<ipython-input-43-41a663632bd5>:12: MatplotlibDeprecationWarning: Adding an axes using the same arguments as a previous axes currently reuses the earlier instance.  In a future version, a new instance will always be created and returned.  Meanwhile, this warning can be suppressed, and the future behavior ensured, by passing a unique label to each axes instance.\n",
      "  fig.add_axes(ax)\n"
     ]
    },
    {
     "data": {
      "image/png": "[encoded data removed]",
      "text/plain": [
       "<Figure size 432x432 with 1 Axes>"
      ]
     },
     "metadata": {
      "needs_background": "light"
     },
     "output_type": "display_data"
    }
   ],
   "source": [
    "km = KMeans(n_clusters = 3, max_iter = 10000, random_state = 1)\n",
    "km_labels = km.fit_predict(experiences_by_post_scaled)\n",
    "\n",
    "from mpl_toolkits.mplot3d import Axes3D\n",
    "\n",
    "x = experiences_by_post_scaled[:, 0]\n",
    "y = experiences_by_post_scaled[:, 1]\n",
    "z = experiences_by_post_scaled[:, 2]\n",
    "\n",
    "fig = plt.figure(figsize=(6,6))\n",
    "ax = Axes3D(fig)\n",
    "fig.add_axes(ax)\n",
    "\n",
    "sc = ax.scatter(x, y, z, s=40, marker='o', alpha=.3, c=km_labels)\n",
    "plt.savefig('kmeans.png')"
   ]
  },
  {
   "cell_type": "markdown",
   "id": "19e2460d-decc-4a8b-b88a-8f705870c0ef",
   "metadata": {
    "tags": []
   },
   "source": [
    "This is still completely unclusterable."
   ]
  },
  {
   "cell_type": "markdown",
   "id": "38266a25-8df5-4055-863e-9049601700a2",
   "metadata": {},
   "source": [
    "### CoRex\n",
    "I'm finally going to try CoRex and use anchor words to focus on certain nootropics and the experiences. "
   ]
  },
  {
   "cell_type": "code",
   "execution_count": 44,
   "id": "ff33cd6f-479a-487d-8851-71d518249406",
   "metadata": {
    "tags": []
   },
   "outputs": [],
   "source": [
    "df_noo_clean.index = topics_by_post.index\n",
    "df_noo_clean['main_topic'] = topics_by_post['main_topic']\n",
    "df_experiences = df_noo_clean[df_noo_clean.main_topic == 'experiences']\n"
   ]
  },
  {
   "cell_type": "code",
   "execution_count": 45,
   "id": "e85110de-6f7f-4daa-bdc9-a59c5299652e",
   "metadata": {},
   "outputs": [],
   "source": [
    "vectorizer = CountVectorizer(stop_words='english', token_pattern=\"\\\\b[a-z][a-z]+\\\\b\",\n",
    "                             binary=True)\n",
    "\n",
    "doc_word = vectorizer.fit_transform(df_experiences.body)"
   ]
  },
  {
   "cell_type": "code",
   "execution_count": 46,
   "id": "f53bf30d-c313-4e21-8b09-d2c03147262a",
   "metadata": {},
   "outputs": [],
   "source": [
    "from corextopic import corextopic as ct\n",
    "from corextopic import vis_topic as vt"
   ]
  },
  {
   "cell_type": "code",
   "execution_count": 47,
   "id": "5b4aa7e5-46d3-4707-8681-bac745ef8afb",
   "metadata": {},
   "outputs": [
    {
     "data": {
      "text/plain": [
       "<corextopic.corextopic.Corex at 0x7ff0ec952e20>"
      ]
     },
     "execution_count": 47,
     "metadata": {},
     "output_type": "execute_result"
    }
   ],
   "source": [
    "words = list(np.asarray(vectorizer.get_feature_names()))\n",
    "topic_model = ct.Corex(n_hidden=6, words=words, seed=1)\n",
    "topic_model.fit(doc_word, words=words, docs=df_experiences.body)"
   ]
  },
  {
   "cell_type": "code",
   "execution_count": 48,
   "id": "586fb11d-5e11-4d76-8dfb-0a4ac759fb37",
   "metadata": {
    "tags": []
   },
   "outputs": [
    {
     "data": {
      "text/plain": [
       "[('my experience with    agmatine sulfate over the last few days i have been in a state of mild moderate depression and anxiety for the past couple of weeks and not much has enabled me to think and function normally apart from agmatine literally within an hour of taking it i felt better than i have in many weeks  one of the most prominent effects i immediately noticed was the clarity of mind i did not have to think about anything in particular my mind just kind of rested if i was not trying to focus on something to me this effect was fucking incredible especially because the response i felt was also associated with a feeling of wellbeing my adhedonia was almost immediately reduced when the effects kicked in  i would say this specific effect is particularly effective if your mental distress was caused by something specific which it was in my case although it for sure works in other circumstances as well just based on anecdotes i have read  it allowed me quiet my annoyingly loud mind and just enjoy the moment in my limited knowledge of physiology i would assume that this subjective mind clarity effect is a result of the nmda antagonism that agmatine is implicated in  another effect i felt was the calm body effect i assume this is caused by the no modulation and beta endorphin release another antidepressant mode of action  i would say if you are struggling with anxiety also look into propranolol i definitely think the mind body feedback loop for anxiety is massively powerful and not something to gloss over when trying to understand your anxiety and in my opinion the anti anxiety effects of agmantine are partially due to this bp heart rate effect  i take about g of agmatine sulfate on an empty stomach or with carbs but definitely not with protein and i start to notice effects within  minutes also drinking coffee after you take agmatine is an experience on its own  i rambled a lot but needless to say i will be continuing to take this supplement and analyzing my response just because its been so goddamn effective ',\n",
       "  0.0),\n",
       " ('be a responsible user and take responsibility for your usage a rant over powder city closing in this day and age of extremely available information it is everyone is responsibility to educate themselves on the products they consume and so long as a vendor does not make false claims it is caveat emptor for each and everyone of us  i understand that for people who suffer either physically or mentally it is possible to do things that could be considered irresponsible in a quest to not be utterly miserable i have been guilty of that at times  however i did not blame anybody and i took responsibility  be a responsible human being or take responsibility for your actions do not blame others for your shortcoming and risk ruining it for the rest of us who have some integrity seriously  sorry for the rant i seldom ever get angry about anything but these types of lawsuits and complaints irk me to no end   edit to add the link which prompted my post   setexasrecord  stories      harris county couple alleges lack of warnings on antidepressant led to son  death',\n",
       "  0.0)]"
      ]
     },
     "execution_count": 48,
     "metadata": {},
     "output_type": "execute_result"
    }
   ],
   "source": [
    "topic_model.get_top_docs(topic=4, n_docs=2)"
   ]
  },
  {
   "cell_type": "code",
   "execution_count": 49,
   "id": "0c066347-dac0-4cb5-9163-6fb47a3fcacc",
   "metadata": {
    "tags": []
   },
   "outputs": [
    {
     "data": {
      "text/html": [
       "<div>\n",
       "<style scoped>\n",
       "    .dataframe tbody tr th:only-of-type {\n",
       "        vertical-align: middle;\n",
       "    }\n",
       "\n",
       "    .dataframe tbody tr th {\n",
       "        vertical-align: top;\n",
       "    }\n",
       "\n",
       "    .dataframe thead th {\n",
       "        text-align: right;\n",
       "    }\n",
       "</style>\n",
       "<table border=\"1\" class=\"dataframe\">\n",
       "  <thead>\n",
       "    <tr style=\"text-align: right;\">\n",
       "      <th></th>\n",
       "      <th>topic0</th>\n",
       "      <th>topic1</th>\n",
       "      <th>topic2</th>\n",
       "      <th>topic3</th>\n",
       "      <th>topic4</th>\n",
       "      <th>topic5</th>\n",
       "    </tr>\n",
       "  </thead>\n",
       "  <tbody>\n",
       "    <tr>\n",
       "      <th>0</th>\n",
       "      <td>True</td>\n",
       "      <td>False</td>\n",
       "      <td>True</td>\n",
       "      <td>False</td>\n",
       "      <td>True</td>\n",
       "      <td>False</td>\n",
       "    </tr>\n",
       "    <tr>\n",
       "      <th>1</th>\n",
       "      <td>False</td>\n",
       "      <td>False</td>\n",
       "      <td>False</td>\n",
       "      <td>False</td>\n",
       "      <td>False</td>\n",
       "      <td>False</td>\n",
       "    </tr>\n",
       "    <tr>\n",
       "      <th>2</th>\n",
       "      <td>False</td>\n",
       "      <td>False</td>\n",
       "      <td>False</td>\n",
       "      <td>False</td>\n",
       "      <td>False</td>\n",
       "      <td>False</td>\n",
       "    </tr>\n",
       "    <tr>\n",
       "      <th>3</th>\n",
       "      <td>True</td>\n",
       "      <td>False</td>\n",
       "      <td>False</td>\n",
       "      <td>False</td>\n",
       "      <td>True</td>\n",
       "      <td>False</td>\n",
       "    </tr>\n",
       "    <tr>\n",
       "      <th>4</th>\n",
       "      <td>False</td>\n",
       "      <td>False</td>\n",
       "      <td>False</td>\n",
       "      <td>False</td>\n",
       "      <td>False</td>\n",
       "      <td>False</td>\n",
       "    </tr>\n",
       "    <tr>\n",
       "      <th>...</th>\n",
       "      <td>...</td>\n",
       "      <td>...</td>\n",
       "      <td>...</td>\n",
       "      <td>...</td>\n",
       "      <td>...</td>\n",
       "      <td>...</td>\n",
       "    </tr>\n",
       "    <tr>\n",
       "      <th>1940</th>\n",
       "      <td>False</td>\n",
       "      <td>False</td>\n",
       "      <td>False</td>\n",
       "      <td>False</td>\n",
       "      <td>False</td>\n",
       "      <td>False</td>\n",
       "    </tr>\n",
       "    <tr>\n",
       "      <th>1941</th>\n",
       "      <td>False</td>\n",
       "      <td>False</td>\n",
       "      <td>True</td>\n",
       "      <td>True</td>\n",
       "      <td>False</td>\n",
       "      <td>False</td>\n",
       "    </tr>\n",
       "    <tr>\n",
       "      <th>1942</th>\n",
       "      <td>False</td>\n",
       "      <td>False</td>\n",
       "      <td>False</td>\n",
       "      <td>False</td>\n",
       "      <td>False</td>\n",
       "      <td>False</td>\n",
       "    </tr>\n",
       "    <tr>\n",
       "      <th>1943</th>\n",
       "      <td>False</td>\n",
       "      <td>False</td>\n",
       "      <td>False</td>\n",
       "      <td>False</td>\n",
       "      <td>False</td>\n",
       "      <td>False</td>\n",
       "    </tr>\n",
       "    <tr>\n",
       "      <th>1944</th>\n",
       "      <td>False</td>\n",
       "      <td>False</td>\n",
       "      <td>False</td>\n",
       "      <td>False</td>\n",
       "      <td>False</td>\n",
       "      <td>False</td>\n",
       "    </tr>\n",
       "  </tbody>\n",
       "</table>\n",
       "<p>1945 rows × 6 columns</p>\n",
       "</div>"
      ],
      "text/plain": [
       "      topic0  topic1  topic2  topic3  topic4  topic5\n",
       "0       True   False    True   False    True   False\n",
       "1      False   False   False   False   False   False\n",
       "2      False   False   False   False   False   False\n",
       "3       True   False   False   False    True   False\n",
       "4      False   False   False   False   False   False\n",
       "...      ...     ...     ...     ...     ...     ...\n",
       "1940   False   False   False   False   False   False\n",
       "1941   False   False    True    True   False   False\n",
       "1942   False   False   False   False   False   False\n",
       "1943   False   False   False   False   False   False\n",
       "1944   False   False   False   False   False   False\n",
       "\n",
       "[1945 rows x 6 columns]"
      ]
     },
     "execution_count": 49,
     "metadata": {},
     "output_type": "execute_result"
    }
   ],
   "source": [
    "predictions = pd.DataFrame(topic_model.predict(doc_word), columns=['topic'+str(i) for i in range(6)])\n",
    "predictions"
   ]
  },
  {
   "cell_type": "code",
   "execution_count": 50,
   "id": "b79cd991-97f3-4815-96ed-6ed3a597b9d0",
   "metadata": {
    "tags": []
   },
   "outputs": [
    {
     "data": {
      "image/png": "[encoded data removed]",
      "text/plain": [
       "<Figure size 720x360 with 1 Axes>"
      ]
     },
     "metadata": {
      "needs_background": "light"
     },
     "output_type": "display_data"
    }
   ],
   "source": [
    "plt.figure(figsize=(10,5))\n",
    "plt.bar(range(topic_model.tcs.shape[0]), topic_model.tcs, color='#4e79a7', width=0.5)\n",
    "plt.xlabel('Topic', fontsize=16)\n",
    "plt.ylabel('Total Correlation (nats)', fontsize=16);"
   ]
  },
  {
   "cell_type": "code",
   "execution_count": null,
   "id": "8da979ac-1b0d-471b-89e7-78253cbc51b3",
   "metadata": {},
   "outputs": [],
   "source": [
    "topic_model = ct.Corex(n_hidden=15, words=words,\n",
    "                       max_iter=200, verbose=False, seed=1)\n",
    "\n",
    "topic_model.fit(doc_word, words=words, docs=df_experiences.body, \n",
    "                anchors=[['caffeine'], \n",
    "                         ['phenibut'], \n",
    "                         ['piracetam'], \n",
    "                         ['lion', 'mane'],\n",
    "                         ['ashwagandha'], \n",
    "                         ['noopept'],\n",
    "                         ['theanine'],\n",
    "                         ['bacopa'],\n",
    "                         ['phenylpiracetam'],\n",
    "                         ['modafinil'],\n",
    "                         ['creatine'],\n",
    "                         ['kratom'],\n",
    "                         ['oxiracetam'],\n",
    "                         ['taurine'],\n",
    "                         ['methylene', 'blue']], anchor_strength=10)\n",
    "\n",
    "# Print all topics from the CorEx topic model\n",
    "topics = topic_model.get_topics()\n",
    "for n,topic in enumerate(topics):\n",
    "    topic_words,_,_ = zip(*topic)\n",
    "    print('{}: '.format(n) + ','.join(topic_words))"
   ]
  },
  {
   "cell_type": "code",
   "execution_count": null,
   "id": "594400d2-8569-4bf2-8e1e-275afea0a04a",
   "metadata": {},
   "outputs": [],
   "source": [
    "caffeine = topic_model.get_top_docs(topic=0, n_docs=100)\n",
    "phenibut = topic_model.get_top_docs(topic=1, n_docs=100)\n",
    "piracetam = topic_model.get_top_docs(topic=2, n_docs=100)\n",
    "lion_mane = topic_model.get_top_docs(topic=3, n_docs=100)\n",
    "ashwagandha = topic_model.get_top_docs(topic=4, n_docs=100)\n",
    "noopept = topic_model.get_top_docs(topic=5, n_docs=100)\n",
    "theanine = topic_model.get_top_docs(topic=6, n_docs=100)\n",
    "bacopa = topic_model.get_top_docs(topic=7, n_docs=100)\n",
    "phenylpiracetam = topic_model.get_top_docs(topic=8, n_docs=100)\n",
    "modafinil = topic_model.get_top_docs(topic=9, n_docs=100)\n",
    "creatine = topic_model.get_top_docs(topic=10, n_docs=100)\n",
    "kratom = topic_model.get_top_docs(topic=11, n_docs=100)\n",
    "oxiracetam = topic_model.get_top_docs(topic=12, n_docs=100)\n",
    "taurine = topic_model.get_top_docs(topic=13, n_docs=100)\n",
    "methylene_blue = topic_model.get_top_docs(topic=14, n_docs=100)"
   ]
  },
  {
   "cell_type": "code",
   "execution_count": null,
   "id": "8b1b2da8-d8c5-444e-8ea2-d0b8fb842462",
   "metadata": {
    "tags": []
   },
   "outputs": [],
   "source": [
    "methylene_blue[0]"
   ]
  },
  {
   "cell_type": "code",
   "execution_count": null,
   "id": "49140f3e-531c-43ab-bf86-fbcf92a8f67e",
   "metadata": {
    "tags": []
   },
   "outputs": [],
   "source": [
    "from textblob import TextBlob\n",
    "\n",
    "def get_sentiment(topic_list):\n",
    "    pol = lambda x: TextBlob(x).sentiment.polarity\n",
    "    sub = lambda x: TextBlob(x).sentiment.subjectivity\n",
    "    pol_list = [pol(x[0]) for x in topic_list]\n",
    "    sub_list = [sub(x[0]) for x in topic_list]\n",
    "    sentiment_dict = {}\n",
    "    sentiment_dict['polarity'] = (np.mean(pol_list))\n",
    "    sentiment_dict['subjectivity'] = (np.mean(sub_list))\n",
    "    \n",
    "    return sentiment_dict"
   ]
  },
  {
   "cell_type": "code",
   "execution_count": null,
   "id": "51826427-f4e4-461b-abef-e4623877ede1",
   "metadata": {},
   "outputs": [],
   "source": [
    "from varname import nameof\n",
    "df_sentiment = pd.DataFrame(columns = ('polarity', 'subjectivity')) \n",
    "topic_list = ['caffeine', 'phenibut', 'bacopa', 'piracetam', 'lion_mane', 'ashwagandha', 'noopept', 'theanine', 'phenylpiracetam', 'modafinil', 'creatine', 'kratom', 'oxiracetam', 'taurine', 'methylene_blue']\n",
    "for topic in topic_list:\n",
    "    sentiment_dict = get_sentiment(locals()[topic])\n",
    "    df_sentiment.loc[topic] = [sentiment_dict['polarity'], sentiment_dict['subjectivity']]\n",
    "df_sentiment"
   ]
  },
  {
   "cell_type": "markdown",
   "id": "f3a26c1e-d905-4ae4-b22a-138f33d2e087",
   "metadata": {},
   "source": [
    "Bummer"
   ]
  },
  {
   "cell_type": "markdown",
   "id": "44e91db9-8b5d-484b-b6fe-d02a52a2dde2",
   "metadata": {},
   "source": [
    "### Try Vader as a last attempt"
   ]
  },
  {
   "cell_type": "code",
   "execution_count": null,
   "id": "a87299fa-328a-4500-8aa6-cb115e85c4b5",
   "metadata": {},
   "outputs": [],
   "source": [
    "from nltk.sentiment.vader import SentimentIntensityAnalyzer\n",
    "sid = SentimentIntensityAnalyzer()"
   ]
  },
  {
   "cell_type": "code",
   "execution_count": null,
   "id": "1d57caac-c1b6-4a89-a029-85b2d528e69e",
   "metadata": {},
   "outputs": [],
   "source": [
    "def get_vader_mean(topic):\n",
    "    final_dict = {}\n",
    "    list_dicts = []\n",
    "    for document in topic:\n",
    "        sentiment_dict = sid.polarity_scores(document[0])\n",
    "        list_dicts.append(sentiment_dict)\n",
    "    final_dict['negative'] = np.mean([d['neg'] for d in list_dicts])\n",
    "    final_dict['neutral'] = np.mean([d['neu'] for d in list_dicts])\n",
    "    final_dict['positive'] = np.mean([d['pos'] for d in list_dicts])\n",
    "    final_dict['compound'] = np.mean([d['compound'] for d in list_dicts])\n",
    "    return final_dict"
   ]
  },
  {
   "cell_type": "code",
   "execution_count": null,
   "id": "65672054-948a-4960-8d08-75153ef01faf",
   "metadata": {},
   "outputs": [],
   "source": [
    "def get_vader_std(topic):\n",
    "    final_dict = {}\n",
    "    list_dicts = []\n",
    "    for document in topic:\n",
    "        sentiment_dict = sid.polarity_scores(document[0])\n",
    "        list_dicts.append(sentiment_dict)\n",
    "    final_dict['negative'] = np.std([d['neg'] for d in list_dicts])\n",
    "    final_dict['neutral'] = np.std([d['neu'] for d in list_dicts])\n",
    "    final_dict['positive'] = np.std([d['pos'] for d in list_dicts])\n",
    "    final_dict['compound'] = np.std([d['compound'] for d in list_dicts])\n",
    "    return final_dict"
   ]
  },
  {
   "cell_type": "code",
   "execution_count": null,
   "id": "90bdb879-630f-4074-8fea-20fab5de2d21",
   "metadata": {},
   "outputs": [],
   "source": [
    "df_vader_mean = pd.DataFrame(columns = ('negative', 'neutral', 'positive', 'compound')) \n",
    "topic_list = ['caffeine', 'phenibut', 'bacopa', 'piracetam', 'lion_mane', 'ashwagandha', 'noopept', 'theanine', 'phenylpiracetam', 'modafinil', 'creatine', 'kratom', 'oxiracetam', 'taurine', 'methylene_blue']\n",
    "for topic in topic_list:\n",
    "    sentiment_dict = get_vader_mean(locals()[topic])\n",
    "    df_vader_mean.loc[topic] = [sentiment_dict['negative'], sentiment_dict['neutral'], sentiment_dict['positive'], sentiment_dict['compound']]\n"
   ]
  },
  {
   "cell_type": "code",
   "execution_count": null,
   "id": "42202afa-078c-4b11-b42e-51eb6b05ecc0",
   "metadata": {},
   "outputs": [],
   "source": [
    "df_vader_mean"
   ]
  },
  {
   "cell_type": "code",
   "execution_count": null,
   "id": "c6d77eca-1cdb-4a16-84cb-9081722739c3",
   "metadata": {},
   "outputs": [],
   "source": [
    "df_vader_std = pd.DataFrame(columns = ('negative', 'neutral', 'positive', 'compound')) \n",
    "topic_list = ['caffeine', 'phenibut', 'bacopa', 'piracetam', 'lion_mane', 'ashwagandha', 'noopept', 'theanine', 'phenylpiracetam', 'modafinil', 'creatine', 'kratom', 'oxiracetam', 'taurine', 'methylene_blue']\n",
    "for topic in topic_list:\n",
    "    sentiment_dict = get_vader_std(locals()[topic])\n",
    "\n",
    "    df_vader_std.loc[topic] = [sentiment_dict['negative'], sentiment_dict['neutral'], sentiment_dict['positive'], sentiment_dict['compound']]\n",
    "df_vader_std"
   ]
  },
  {
   "cell_type": "code",
   "execution_count": null,
   "id": "f7a650f2-3123-4c76-a554-b73b54aa01e0",
   "metadata": {},
   "outputs": [],
   "source": [
    "df_vader_mean.sort_values('positive', inplace = True, ascending = False)\n",
    "plt.figure(figsize = [10,5])\n",
    "sns.barplot(x = df_vader_mean.index, y = df_vader_mean.negative, color = 'darkslateblue')\n",
    "plt.xticks(size = 12)\n",
    "plt.xlabel('Nootropic Name', size = 15)\n",
    "plt.ylabel('Negative Score', size = 15)\n",
    "plt.xticks(rotation=45) \n",
    "plt.savefig('negative.png', bbox_inches = 'tight');"
   ]
  },
  {
   "cell_type": "code",
   "execution_count": null,
   "id": "4c0c5c0b-7df8-4147-a814-691fcadbaee2",
   "metadata": {},
   "outputs": [],
   "source": [
    "# df_vader_mean.drop(columns = 'neutral', inplace = True)\n",
    "vader_rank = df_vader_mean.rank(ascending = False)\n",
    "vader_rank.negative = df_vader_mean.negative.rank(ascending = True)\n",
    "vader_rank = vader_rank[['compound', 'positive', 'negative']]\n",
    "vader_rank.sort_values('compound', inplace = True)\n",
    "plt.figure(figsize = [9,7])\n",
    "sns.heatmap(vader_rank.transpose(), annot = True, square = True, cbar = False, cmap = 'viridis_r')\n",
    "plt.xlabel('Nootropic', size = 14)\n",
    "plt.xticks(rotation = 45)\n",
    "plt.savefig('heatmap.png')"
   ]
  },
  {
   "cell_type": "code",
   "execution_count": null,
   "id": "3d6e35c3-928c-4b8e-8358-e13c15c34c5c",
   "metadata": {},
   "outputs": [],
   "source": [
    "df_vader_.sort_values('compound', ascending = False).plot(y = 'compound', kind = 'bar')\n",
    "plt.xticks(rotation = 45)\n",
    "plt.figure(figsize = [15,30]); "
   ]
  },
  {
   "cell_type": "code",
   "execution_count": null,
   "id": "423019b2-0183-4027-a053-1368b1d08af8",
   "metadata": {},
   "outputs": [],
   "source": []
  },
  {
   "cell_type": "code",
   "execution_count": null,
   "id": "66a3449d-df84-4b44-b424-f9c38535d744",
   "metadata": {},
   "outputs": [],
   "source": [
    "df_vader_std.sort_values('positive', ascending = False).plot(y = ['negative', 'positive'], kind = 'bar')"
   ]
  },
  {
   "cell_type": "code",
   "execution_count": null,
   "id": "fa7dda5c-a1f4-494c-b03b-7a723153da08",
   "metadata": {},
   "outputs": [],
   "source": []
  }
 ],
 "metadata": {
  "kernelspec": {
   "display_name": "Python [conda env:metis] *",
   "language": "python",
   "name": "conda-env-metis-py"
  },
  "language_info": {
   "codemirror_mode": {
    "name": "ipython",
    "version": 3
   },
   "file_extension": ".py",
   "mimetype": "text/x-python",
   "name": "python",
   "nbconvert_exporter": "python",
   "pygments_lexer": "ipython3",
   "version": "3.8.8"
  }
 },
 "nbformat": 4,
 "nbformat_minor": 5
}
